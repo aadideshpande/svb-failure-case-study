{
 "cells": [
  {
   "cell_type": "code",
   "execution_count": null,
   "metadata": {},
   "outputs": [],
   "source": [
    "import pandas as pd\n",
    "import numpy as np \n",
    "import matplotlib.pyplot as plt\n",
    "import warnings\n",
    "import wrds\n",
    "# import data_read\n",
    "import pull_WRDS_call_reports, pull_treasuries_data\n",
    "import pull_mbb_data\n",
    "import data_preprocessing, compute_treasury_changes\n",
    "# import calc_functions\n",
    "# import Calc_table_statistic\n",
    "\n",
    "warnings.filterwarnings(\"ignore\")"
   ]
  },
  {
   "cell_type": "markdown",
   "metadata": {},
   "source": [
    "### Treasuries Data"
   ]
  },
  {
   "cell_type": "code",
   "execution_count": null,
   "metadata": {},
   "outputs": [],
   "source": [
    "import investpy\n",
    "import pandas as pd\n",
    "\n",
    "indices = investpy.get_indices(country='united states')\n",
    "indices[indices['name'].str.contains('S&P', case=False)]"
   ]
  },
  {
   "cell_type": "code",
   "execution_count": null,
   "metadata": {},
   "outputs": [],
   "source": [
    "indices[indices['symbol'].str.contains('SPBDUSBT', case=False)]"
   ]
  },
  {
   "cell_type": "code",
   "execution_count": null,
   "metadata": {},
   "outputs": [],
   "source": [
    "import importlib\n",
    "importlib.reload(pull_treasuries_data)\n",
    "treasuries_data = pull_treasuries_data.pull_SP_Treasury_Bond_Index_investpy()"
   ]
  },
  {
   "cell_type": "code",
   "execution_count": null,
   "metadata": {},
   "outputs": [],
   "source": [
    "treasuries_data = pull_treasuries_data.load_from_manual_excel()"
   ]
  },
  {
   "cell_type": "code",
   "execution_count": null,
   "metadata": {},
   "outputs": [],
   "source": [
    "treasuries_data.head()"
   ]
  },
  {
   "cell_type": "code",
   "execution_count": null,
   "metadata": {},
   "outputs": [],
   "source": [
    "treasuries_data = data_preprocessing.preprocess_treasuries_data(treasuries_data)\n",
    "treasuries_data.head()"
   ]
  },
  {
   "cell_type": "markdown",
   "metadata": {},
   "source": [
    "##### Tried to pull S&P Bond Index from WRDS, Yahoo and Investpy but this did not work. Hence, we use data that was pulled manually"
   ]
  },
  {
   "cell_type": "markdown",
   "metadata": {},
   "source": [
    "### MBS ETF Data"
   ]
  },
  {
   "cell_type": "code",
   "execution_count": null,
   "metadata": {},
   "outputs": [],
   "source": [
    "etf_mbs = pull_mbb_data.pull_MBB_data()\n",
    "if etf_mbs is not None:\n",
    "    etf_mbs = data_preprocessing.rename_etf_mbs_columns(etf_mbs)\n",
    "    etf_mbs.head()"
   ]
  },
  {
   "cell_type": "code",
   "execution_count": null,
   "metadata": {},
   "outputs": [],
   "source": []
  },
  {
   "cell_type": "code",
   "execution_count": null,
   "metadata": {},
   "outputs": [],
   "source": [
    "etf_mbs = pull_mbb_data.load_from_manual_csv()"
   ]
  },
  {
   "cell_type": "code",
   "execution_count": null,
   "metadata": {},
   "outputs": [],
   "source": [
    "etf_mbs.dtypes"
   ]
  },
  {
   "cell_type": "code",
   "execution_count": null,
   "metadata": {},
   "outputs": [],
   "source": [
    "etf_mbs.head()"
   ]
  },
  {
   "cell_type": "markdown",
   "metadata": {},
   "source": [
    "##### We pull the MBS ETF Data from yfinance. Also, as an alternative, we have manual data"
   ]
  },
  {
   "cell_type": "markdown",
   "metadata": {},
   "source": [
    "### Call Reports Data"
   ]
  },
  {
   "cell_type": "code",
   "execution_count": null,
   "metadata": {},
   "outputs": [],
   "source": [
    "rcfd_data_1 = pull_WRDS_call_reports.load_RCFD_series_1()\n",
    "rcfd_data_2 = pull_WRDS_call_reports.load_RCFD_series_2()\n",
    "rcon_data_1 = pull_WRDS_call_reports.load_RCON_series_1()\n",
    "rcon_data_2 = pull_WRDS_call_reports.load_RCON_series_2()"
   ]
  },
  {
   "cell_type": "code",
   "execution_count": null,
   "metadata": {},
   "outputs": [],
   "source": [
    "importlib.reload(data_preprocessing)\n",
    "datasets = [rcfd_data_1, rcfd_data_2, rcon_data_1, rcon_data_2]\n",
    "data_preprocessing.missing_data_analysis(datasets, dataset_names=[\n",
    "    'rcfd_data_1', 'rcfd_data_2', 'rcon_data_1', 'rcon_data_2'\n",
    "], show_plot=True)"
   ]
  },
  {
   "cell_type": "code",
   "execution_count": null,
   "metadata": {},
   "outputs": [],
   "source": [
    "df = pull_WRDS_call_reports.load_wrds_call_research()"
   ]
  },
  {
   "cell_type": "code",
   "execution_count": null,
   "metadata": {},
   "outputs": [],
   "source": [
    "# Convert 'date' column to datetime format\n",
    "df['date'] = pd.to_datetime(df['date'])\n",
    "\n",
    "# Define the date range\n",
    "start_date = \"2022-01-01\"\n",
    "end_date = \"2023-03-31\"\n",
    "\n",
    "# Filter the DataFrame based on the date range\n",
    "filtered_df = df[(df['date'] >= start_date) & (df['date'] <= end_date)]\n",
    "\n",
    "# Display the filtered data\n",
    "filtered_df.head()"
   ]
  },
  {
   "cell_type": "code",
   "execution_count": null,
   "metadata": {},
   "outputs": [],
   "source": [
    "filtered_df.shape"
   ]
  },
  {
   "cell_type": "code",
   "execution_count": null,
   "metadata": {},
   "outputs": [],
   "source": [
    "filtered_df = filtered_df[['rssd9001', 'date', 'assets', 'securitiesheldtomaturity',\n",
    "                      'securitiesavailableforsale', 'mbsassets', 'absassets', 'loans', 'totaldep', 'alldepuninsured', 'treasurysec', 'timedepuninsured', 'domdepuninsured',\n",
    "                      'securitiesrmbs_less_3m', 'securitiesrmbs_3m_1y', 'securitiesrmbs_1y_3y', 'securitiesrmbs_3y_5y', 'securitiesrmbs_5y_15y', 'securitiesrmbs_over_15y',\n",
    "                      'resloans_less_3m', 'resloans_3m_1y', 'resloans_1y_3y', 'resloans_3y_5y', 'resloans_5y_15y', 'resloans_over_15y', 'securitiestreasury_less_3m', 'securitiestreasury_3m_1y', 'securitiestreasury_1y_3y','securitiestreasury_3y_5y', 'securitiestreasury_5y_15y', 'securitiestreasury_over_15y', 'loansleases_less_3m','loansleases_3m_1y', 'loansleases_1y_3y', 'loansleases_3y_5y', 'loansleases_5y_15y', 'loansleases_over_15y']\n",
    "]"
   ]
  },
  {
   "cell_type": "code",
   "execution_count": null,
   "metadata": {},
   "outputs": [],
   "source": [
    "importlib.reload(data_preprocessing)\n",
    "data_preprocessing.missing_values_percentage(filtered_df)"
   ]
  },
  {
   "cell_type": "code",
   "execution_count": null,
   "metadata": {},
   "outputs": [],
   "source": []
  }
 ],
 "metadata": {
  "language_info": {
   "name": "python"
  }
 },
 "nbformat": 4,
 "nbformat_minor": 2
}
