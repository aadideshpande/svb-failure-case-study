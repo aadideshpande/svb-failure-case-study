{
 "cells": [
  {
   "cell_type": "code",
   "execution_count": 208,
   "metadata": {},
   "outputs": [],
   "source": [
    "import pandas as pd\n",
    "import numpy as np\n",
    "import matplotlib.pyplot as plt\n",
    "import warnings\n",
    "import wrds\n",
    "# import data_read\n",
    "import pull_WRDS_call_reports, pull_treasuries_data\n",
    "import pull_mbb_data\n",
    "import data_preprocessing, compute_treasury_changes\n",
    "# import calc_functions\n",
    "# import Calc_table_statistic\n",
    "import helper_functions\n",
    "\n",
    "warnings.filterwarnings(\"ignore\")"
   ]
  },
  {
   "cell_type": "code",
   "execution_count": 209,
   "metadata": {},
   "outputs": [
    {
     "data": {
      "text/plain": [
       "<module 'data_preprocessing' from '/Users/aadi/projects/svb-failure-case-study/src/data_preprocessing.py'>"
      ]
     },
     "execution_count": 209,
     "metadata": {},
     "output_type": "execute_result"
    }
   ],
   "source": [
    "import importlib\n",
    "importlib.reload(pull_WRDS_call_reports)\n",
    "importlib.reload(data_preprocessing)"
   ]
  },
  {
   "cell_type": "markdown",
   "metadata": {},
   "source": [
    "### Pull and Preprocess WRDS Call Research Data"
   ]
  },
  {
   "cell_type": "code",
   "execution_count": 210,
   "metadata": {},
   "outputs": [],
   "source": [
    "df = pull_WRDS_call_reports.load_wrds_call_research()"
   ]
  },
  {
   "cell_type": "code",
   "execution_count": 211,
   "metadata": {},
   "outputs": [
    {
     "data": {
      "text/plain": [
       "(1983357, 371)"
      ]
     },
     "execution_count": 211,
     "metadata": {},
     "output_type": "execute_result"
    }
   ],
   "source": [
    "df.shape"
   ]
  },
  {
   "cell_type": "code",
   "execution_count": 212,
   "metadata": {},
   "outputs": [],
   "source": [
    "import datetime\n",
    "start_date = datetime.date(2022, 3, 31)\n",
    "end_date = datetime.date.today()\n",
    "df_filtered = data_preprocessing.filter_data(df, start_date, end_date)"
   ]
  },
  {
   "cell_type": "code",
   "execution_count": 213,
   "metadata": {},
   "outputs": [
    {
     "data": {
      "text/html": [
       "<div>\n",
       "<style scoped>\n",
       "    .dataframe tbody tr th:only-of-type {\n",
       "        vertical-align: middle;\n",
       "    }\n",
       "\n",
       "    .dataframe tbody tr th {\n",
       "        vertical-align: top;\n",
       "    }\n",
       "\n",
       "    .dataframe thead th {\n",
       "        text-align: right;\n",
       "    }\n",
       "</style>\n",
       "<table border=\"1\" class=\"dataframe\">\n",
       "  <thead>\n",
       "    <tr style=\"text-align: right;\">\n",
       "      <th></th>\n",
       "      <th>rssd9001</th>\n",
       "      <th>rcon9804</th>\n",
       "      <th>date</th>\n",
       "      <th>rssd9050</th>\n",
       "      <th>rssd9055</th>\n",
       "      <th>rssd9048</th>\n",
       "      <th>assets</th>\n",
       "      <th>cash</th>\n",
       "      <th>securities</th>\n",
       "      <th>securities_asu</th>\n",
       "      <th>...</th>\n",
       "      <th>q_intexptradingandborrowed</th>\n",
       "      <th>q_intincpersloans</th>\n",
       "      <th>q_persloansintinc</th>\n",
       "      <th>q_intincreloans</th>\n",
       "      <th>q_intexpdomdep</th>\n",
       "      <th>avgirate_timedep</th>\n",
       "      <th>avgirate_timedep_ytd</th>\n",
       "      <th>avgirate_savdep</th>\n",
       "      <th>avgirate_fordep</th>\n",
       "      <th>fedfundsrate</th>\n",
       "    </tr>\n",
       "  </thead>\n",
       "  <tbody>\n",
       "    <tr>\n",
       "      <th>271</th>\n",
       "      <td>37</td>\n",
       "      <td>59.0</td>\n",
       "      <td>2022-03-31</td>\n",
       "      <td>10057</td>\n",
       "      <td>0</td>\n",
       "      <td>200.0</td>\n",
       "      <td>87842.0</td>\n",
       "      <td>12640.0</td>\n",
       "      <td>53347.0</td>\n",
       "      <td>53347.0</td>\n",
       "      <td>...</td>\n",
       "      <td>NaN</td>\n",
       "      <td>131.0</td>\n",
       "      <td>131.0</td>\n",
       "      <td>157.0</td>\n",
       "      <td>55.0</td>\n",
       "      <td>0.0079</td>\n",
       "      <td>0.0079</td>\n",
       "      <td>0.0017</td>\n",
       "      <td>None</td>\n",
       "      <td>0.0018</td>\n",
       "    </tr>\n",
       "    <tr>\n",
       "      <th>273</th>\n",
       "      <td>37</td>\n",
       "      <td>59.0</td>\n",
       "      <td>2022-06-30</td>\n",
       "      <td>10057</td>\n",
       "      <td>0</td>\n",
       "      <td>200.0</td>\n",
       "      <td>84231.0</td>\n",
       "      <td>8061.0</td>\n",
       "      <td>51665.0</td>\n",
       "      <td>51665.0</td>\n",
       "      <td>...</td>\n",
       "      <td>NaN</td>\n",
       "      <td>135.0</td>\n",
       "      <td>135.0</td>\n",
       "      <td>153.0</td>\n",
       "      <td>53.0</td>\n",
       "      <td>0.0076</td>\n",
       "      <td>0.0080</td>\n",
       "      <td>0.0017</td>\n",
       "      <td>None</td>\n",
       "      <td>0.0113</td>\n",
       "    </tr>\n",
       "    <tr>\n",
       "      <th>274</th>\n",
       "      <td>37</td>\n",
       "      <td>59.0</td>\n",
       "      <td>2022-09-30</td>\n",
       "      <td>10057</td>\n",
       "      <td>0</td>\n",
       "      <td>200.0</td>\n",
       "      <td>80081.0</td>\n",
       "      <td>4751.0</td>\n",
       "      <td>49439.0</td>\n",
       "      <td>49439.0</td>\n",
       "      <td>...</td>\n",
       "      <td>NaN</td>\n",
       "      <td>141.0</td>\n",
       "      <td>141.0</td>\n",
       "      <td>153.0</td>\n",
       "      <td>53.0</td>\n",
       "      <td>0.0079</td>\n",
       "      <td>0.0081</td>\n",
       "      <td>0.0016</td>\n",
       "      <td>None</td>\n",
       "      <td>0.0252</td>\n",
       "    </tr>\n",
       "    <tr>\n",
       "      <th>275</th>\n",
       "      <td>37</td>\n",
       "      <td>59.0</td>\n",
       "      <td>2022-12-31</td>\n",
       "      <td>10057</td>\n",
       "      <td>0</td>\n",
       "      <td>200.0</td>\n",
       "      <td>81497.0</td>\n",
       "      <td>9260.0</td>\n",
       "      <td>50548.0</td>\n",
       "      <td>50548.0</td>\n",
       "      <td>...</td>\n",
       "      <td>NaN</td>\n",
       "      <td>155.0</td>\n",
       "      <td>155.0</td>\n",
       "      <td>154.0</td>\n",
       "      <td>52.0</td>\n",
       "      <td>0.0080</td>\n",
       "      <td>0.0083</td>\n",
       "      <td>0.0017</td>\n",
       "      <td>None</td>\n",
       "      <td>0.0408</td>\n",
       "    </tr>\n",
       "    <tr>\n",
       "      <th>277</th>\n",
       "      <td>37</td>\n",
       "      <td>59.0</td>\n",
       "      <td>2023-03-31</td>\n",
       "      <td>10057</td>\n",
       "      <td>0</td>\n",
       "      <td>200.0</td>\n",
       "      <td>80558.0</td>\n",
       "      <td>5977.0</td>\n",
       "      <td>50973.0</td>\n",
       "      <td>50973.0</td>\n",
       "      <td>...</td>\n",
       "      <td>NaN</td>\n",
       "      <td>146.0</td>\n",
       "      <td>146.0</td>\n",
       "      <td>147.0</td>\n",
       "      <td>75.0</td>\n",
       "      <td>0.0117</td>\n",
       "      <td>0.0118</td>\n",
       "      <td>0.0024</td>\n",
       "      <td>None</td>\n",
       "      <td>0.0463</td>\n",
       "    </tr>\n",
       "  </tbody>\n",
       "</table>\n",
       "<p>5 rows × 371 columns</p>\n",
       "</div>"
      ],
      "text/plain": [
       "    rssd9001  rcon9804       date rssd9050 rssd9055  rssd9048   assets  \\\n",
       "271       37      59.0 2022-03-31    10057        0     200.0  87842.0   \n",
       "273       37      59.0 2022-06-30    10057        0     200.0  84231.0   \n",
       "274       37      59.0 2022-09-30    10057        0     200.0  80081.0   \n",
       "275       37      59.0 2022-12-31    10057        0     200.0  81497.0   \n",
       "277       37      59.0 2023-03-31    10057        0     200.0  80558.0   \n",
       "\n",
       "        cash  securities  securities_asu  ...  q_intexptradingandborrowed  \\\n",
       "271  12640.0     53347.0         53347.0  ...                         NaN   \n",
       "273   8061.0     51665.0         51665.0  ...                         NaN   \n",
       "274   4751.0     49439.0         49439.0  ...                         NaN   \n",
       "275   9260.0     50548.0         50548.0  ...                         NaN   \n",
       "277   5977.0     50973.0         50973.0  ...                         NaN   \n",
       "\n",
       "     q_intincpersloans  q_persloansintinc  q_intincreloans  q_intexpdomdep  \\\n",
       "271              131.0              131.0            157.0            55.0   \n",
       "273              135.0              135.0            153.0            53.0   \n",
       "274              141.0              141.0            153.0            53.0   \n",
       "275              155.0              155.0            154.0            52.0   \n",
       "277              146.0              146.0            147.0            75.0   \n",
       "\n",
       "     avgirate_timedep  avgirate_timedep_ytd  avgirate_savdep  avgirate_fordep  \\\n",
       "271            0.0079                0.0079           0.0017             None   \n",
       "273            0.0076                0.0080           0.0017             None   \n",
       "274            0.0079                0.0081           0.0016             None   \n",
       "275            0.0080                0.0083           0.0017             None   \n",
       "277            0.0117                0.0118           0.0024             None   \n",
       "\n",
       "     fedfundsrate  \n",
       "271        0.0018  \n",
       "273        0.0113  \n",
       "274        0.0252  \n",
       "275        0.0408  \n",
       "277        0.0463  \n",
       "\n",
       "[5 rows x 371 columns]"
      ]
     },
     "execution_count": 213,
     "metadata": {},
     "output_type": "execute_result"
    }
   ],
   "source": [
    "df_filtered.head()"
   ]
  },
  {
   "cell_type": "code",
   "execution_count": 214,
   "metadata": {},
   "outputs": [],
   "source": [
    "df_filtered = df_filtered.sort_values(by=['date'])  # Ensure the data is sorted by date\n",
    "df_filtered = df_filtered.groupby('rssd9001').first().reset_index()"
   ]
  },
  {
   "cell_type": "code",
   "execution_count": 215,
   "metadata": {},
   "outputs": [],
   "source": [
    "# df_filtered[df_filtered['rssd9001'] == '37'].head()"
   ]
  },
  {
   "cell_type": "code",
   "execution_count": 216,
   "metadata": {},
   "outputs": [
    {
     "data": {
      "text/plain": [
       "(4913, 371)"
      ]
     },
     "execution_count": 216,
     "metadata": {},
     "output_type": "execute_result"
    }
   ],
   "source": [
    "df_filtered.shape"
   ]
  },
  {
   "cell_type": "code",
   "execution_count": 217,
   "metadata": {},
   "outputs": [
    {
     "data": {
      "text/plain": [
       "4913"
      ]
     },
     "execution_count": 217,
     "metadata": {},
     "output_type": "execute_result"
    }
   ],
   "source": [
    "len(df_filtered['rssd9001'].unique())"
   ]
  },
  {
   "cell_type": "code",
   "execution_count": 218,
   "metadata": {},
   "outputs": [],
   "source": [
    "df_new = df_filtered[['rssd9001', 'date', 'assets', 'securitiesheldtomaturity',\n",
    "                      'securitiesavailableforsale', 'mbsassets', 'absassets', 'loans', 'totaldep', 'alldepuninsured', 'treasurysec', 'timedepuninsured', 'domdepuninsured',\n",
    "                      'securitiesrmbs_less_3m', 'securitiesrmbs_3m_1y', 'securitiesrmbs_1y_3y', 'securitiesrmbs_3y_5y', 'securitiesrmbs_5y_15y', 'securitiesrmbs_over_15y',\n",
    "                      'resloans_less_3m', 'resloans_3m_1y', 'resloans_1y_3y', 'resloans_3y_5y', 'resloans_5y_15y', 'resloans_over_15y']]"
   ]
  },
  {
   "cell_type": "code",
   "execution_count": 219,
   "metadata": {},
   "outputs": [
    {
     "data": {
      "text/plain": [
       "(4913, 25)"
      ]
     },
     "execution_count": 219,
     "metadata": {},
     "output_type": "execute_result"
    }
   ],
   "source": [
    "df_new.shape"
   ]
  },
  {
   "cell_type": "markdown",
   "metadata": {},
   "source": [
    "### Load and Preprocess ETF MBS Data"
   ]
  },
  {
   "cell_type": "code",
   "execution_count": 220,
   "metadata": {},
   "outputs": [
    {
     "name": "stdout",
     "output_type": "stream",
     "text": [
      "✅ Successfully loaded MBB data from /Users/aadi/projects/svb-failure-case-study/data/manual/ishares_mbs_etf_daily.csv\n"
     ]
    }
   ],
   "source": [
    "etf_mbs = pull_mbb_data.load_from_manual_csv()"
   ]
  },
  {
   "cell_type": "code",
   "execution_count": 221,
   "metadata": {},
   "outputs": [
    {
     "data": {
      "text/html": [
       "<div>\n",
       "<style scoped>\n",
       "    .dataframe tbody tr th:only-of-type {\n",
       "        vertical-align: middle;\n",
       "    }\n",
       "\n",
       "    .dataframe tbody tr th {\n",
       "        vertical-align: top;\n",
       "    }\n",
       "\n",
       "    .dataframe thead th {\n",
       "        text-align: right;\n",
       "    }\n",
       "</style>\n",
       "<table border=\"1\" class=\"dataframe\">\n",
       "  <thead>\n",
       "    <tr style=\"text-align: right;\">\n",
       "      <th></th>\n",
       "      <th>Date</th>\n",
       "      <th>Close/Last</th>\n",
       "      <th>Volume</th>\n",
       "      <th>Open</th>\n",
       "      <th>High</th>\n",
       "      <th>Low</th>\n",
       "    </tr>\n",
       "  </thead>\n",
       "  <tbody>\n",
       "    <tr>\n",
       "      <th>0</th>\n",
       "      <td>02/25/2025</td>\n",
       "      <td>93.54</td>\n",
       "      <td>2839593</td>\n",
       "      <td>93.43</td>\n",
       "      <td>93.6276</td>\n",
       "      <td>93.060</td>\n",
       "    </tr>\n",
       "    <tr>\n",
       "      <th>1</th>\n",
       "      <td>02/24/2025</td>\n",
       "      <td>92.99</td>\n",
       "      <td>2637865</td>\n",
       "      <td>92.64</td>\n",
       "      <td>93.0600</td>\n",
       "      <td>92.550</td>\n",
       "    </tr>\n",
       "    <tr>\n",
       "      <th>2</th>\n",
       "      <td>02/21/2025</td>\n",
       "      <td>92.87</td>\n",
       "      <td>1584830</td>\n",
       "      <td>92.52</td>\n",
       "      <td>92.9750</td>\n",
       "      <td>92.415</td>\n",
       "    </tr>\n",
       "    <tr>\n",
       "      <th>3</th>\n",
       "      <td>02/20/2025</td>\n",
       "      <td>92.38</td>\n",
       "      <td>1627928</td>\n",
       "      <td>92.26</td>\n",
       "      <td>92.4299</td>\n",
       "      <td>92.250</td>\n",
       "    </tr>\n",
       "    <tr>\n",
       "      <th>4</th>\n",
       "      <td>02/19/2025</td>\n",
       "      <td>92.13</td>\n",
       "      <td>2126798</td>\n",
       "      <td>91.91</td>\n",
       "      <td>92.1872</td>\n",
       "      <td>91.870</td>\n",
       "    </tr>\n",
       "  </tbody>\n",
       "</table>\n",
       "</div>"
      ],
      "text/plain": [
       "         Date  Close/Last   Volume   Open     High     Low\n",
       "0  02/25/2025       93.54  2839593  93.43  93.6276  93.060\n",
       "1  02/24/2025       92.99  2637865  92.64  93.0600  92.550\n",
       "2  02/21/2025       92.87  1584830  92.52  92.9750  92.415\n",
       "3  02/20/2025       92.38  1627928  92.26  92.4299  92.250\n",
       "4  02/19/2025       92.13  2126798  91.91  92.1872  91.870"
      ]
     },
     "execution_count": 221,
     "metadata": {},
     "output_type": "execute_result"
    }
   ],
   "source": [
    "etf_mbs.head()"
   ]
  },
  {
   "cell_type": "code",
   "execution_count": 222,
   "metadata": {},
   "outputs": [
    {
     "data": {
      "text/plain": [
       "str"
      ]
     },
     "execution_count": 222,
     "metadata": {},
     "output_type": "execute_result"
    }
   ],
   "source": [
    "type(etf_mbs.iloc[0]['Date'])"
   ]
  },
  {
   "cell_type": "markdown",
   "metadata": {},
   "source": [
    "### Load and Preprocess Treasuries Data"
   ]
  },
  {
   "cell_type": "code",
   "execution_count": 223,
   "metadata": {},
   "outputs": [
    {
     "name": "stdout",
     "output_type": "stream",
     "text": [
      "✅ Successfully loaded Treasury Bond Index data from /Users/aadi/projects/svb-failure-case-study/data/manual/s_&_p_treasury_bond_index.xls\n"
     ]
    }
   ],
   "source": [
    "treasuries_data = pull_treasuries_data.load_from_manual_excel()"
   ]
  },
  {
   "cell_type": "code",
   "execution_count": 224,
   "metadata": {},
   "outputs": [
    {
     "data": {
      "text/html": [
       "<div>\n",
       "<style scoped>\n",
       "    .dataframe tbody tr th:only-of-type {\n",
       "        vertical-align: middle;\n",
       "    }\n",
       "\n",
       "    .dataframe tbody tr th {\n",
       "        vertical-align: top;\n",
       "    }\n",
       "\n",
       "    .dataframe thead th {\n",
       "        text-align: right;\n",
       "    }\n",
       "</style>\n",
       "<table border=\"1\" class=\"dataframe\">\n",
       "  <thead>\n",
       "    <tr style=\"text-align: right;\">\n",
       "      <th></th>\n",
       "      <th>Effective date</th>\n",
       "      <th>S&amp;P U.S. Treasury Bond Index</th>\n",
       "    </tr>\n",
       "  </thead>\n",
       "  <tbody>\n",
       "    <tr>\n",
       "      <th>0</th>\n",
       "      <td>2015-01-30</td>\n",
       "      <td>414.51</td>\n",
       "    </tr>\n",
       "    <tr>\n",
       "      <th>1</th>\n",
       "      <td>2015-02-02</td>\n",
       "      <td>414.20</td>\n",
       "    </tr>\n",
       "    <tr>\n",
       "      <th>2</th>\n",
       "      <td>2015-02-03</td>\n",
       "      <td>412.52</td>\n",
       "    </tr>\n",
       "    <tr>\n",
       "      <th>3</th>\n",
       "      <td>2015-02-04</td>\n",
       "      <td>412.79</td>\n",
       "    </tr>\n",
       "    <tr>\n",
       "      <th>4</th>\n",
       "      <td>2015-02-05</td>\n",
       "      <td>412.07</td>\n",
       "    </tr>\n",
       "  </tbody>\n",
       "</table>\n",
       "</div>"
      ],
      "text/plain": [
       "  Effective date   S&P U.S. Treasury Bond Index\n",
       "0      2015-01-30                        414.51\n",
       "1      2015-02-02                        414.20\n",
       "2      2015-02-03                        412.52\n",
       "3      2015-02-04                        412.79\n",
       "4      2015-02-05                        412.07"
      ]
     },
     "execution_count": 224,
     "metadata": {},
     "output_type": "execute_result"
    }
   ],
   "source": [
    "treasuries_data.head()"
   ]
  },
  {
   "cell_type": "code",
   "execution_count": 225,
   "metadata": {},
   "outputs": [],
   "source": [
    "treasuries_data = data_preprocessing.preprocess_treasuries_data(treasuries_data)"
   ]
  },
  {
   "cell_type": "code",
   "execution_count": 226,
   "metadata": {},
   "outputs": [
    {
     "data": {
      "text/html": [
       "<div>\n",
       "<style scoped>\n",
       "    .dataframe tbody tr th:only-of-type {\n",
       "        vertical-align: middle;\n",
       "    }\n",
       "\n",
       "    .dataframe tbody tr th {\n",
       "        vertical-align: top;\n",
       "    }\n",
       "\n",
       "    .dataframe thead th {\n",
       "        text-align: right;\n",
       "    }\n",
       "</style>\n",
       "<table border=\"1\" class=\"dataframe\">\n",
       "  <thead>\n",
       "    <tr style=\"text-align: right;\">\n",
       "      <th></th>\n",
       "      <th>date</th>\n",
       "      <th>index</th>\n",
       "    </tr>\n",
       "  </thead>\n",
       "  <tbody>\n",
       "    <tr>\n",
       "      <th>0</th>\n",
       "      <td>2015-01-30</td>\n",
       "      <td>414.51</td>\n",
       "    </tr>\n",
       "    <tr>\n",
       "      <th>1</th>\n",
       "      <td>2015-02-02</td>\n",
       "      <td>414.20</td>\n",
       "    </tr>\n",
       "    <tr>\n",
       "      <th>2</th>\n",
       "      <td>2015-02-03</td>\n",
       "      <td>412.52</td>\n",
       "    </tr>\n",
       "    <tr>\n",
       "      <th>3</th>\n",
       "      <td>2015-02-04</td>\n",
       "      <td>412.79</td>\n",
       "    </tr>\n",
       "    <tr>\n",
       "      <th>4</th>\n",
       "      <td>2015-02-05</td>\n",
       "      <td>412.07</td>\n",
       "    </tr>\n",
       "  </tbody>\n",
       "</table>\n",
       "</div>"
      ],
      "text/plain": [
       "        date   index\n",
       "0 2015-01-30  414.51\n",
       "1 2015-02-02  414.20\n",
       "2 2015-02-03  412.52\n",
       "3 2015-02-04  412.79\n",
       "4 2015-02-05  412.07"
      ]
     },
     "execution_count": 226,
     "metadata": {},
     "output_type": "execute_result"
    }
   ],
   "source": [
    "treasuries_data.head()"
   ]
  },
  {
   "cell_type": "code",
   "execution_count": null,
   "metadata": {},
   "outputs": [],
   "source": []
  },
  {
   "cell_type": "markdown",
   "metadata": {},
   "source": []
  },
  {
   "cell_type": "code",
   "execution_count": 229,
   "metadata": {},
   "outputs": [
    {
     "data": {
      "text/html": [
       "<div>\n",
       "<style scoped>\n",
       "    .dataframe tbody tr th:only-of-type {\n",
       "        vertical-align: middle;\n",
       "    }\n",
       "\n",
       "    .dataframe tbody tr th {\n",
       "        vertical-align: top;\n",
       "    }\n",
       "\n",
       "    .dataframe thead th {\n",
       "        text-align: right;\n",
       "    }\n",
       "</style>\n",
       "<table border=\"1\" class=\"dataframe\">\n",
       "  <thead>\n",
       "    <tr style=\"text-align: right;\">\n",
       "      <th></th>\n",
       "      <th>rssd9001</th>\n",
       "      <th>date</th>\n",
       "      <th>assets</th>\n",
       "      <th>securitiesheldtomaturity</th>\n",
       "      <th>securitiesavailableforsale</th>\n",
       "      <th>mbsassets</th>\n",
       "      <th>absassets</th>\n",
       "      <th>loans</th>\n",
       "      <th>totaldep</th>\n",
       "      <th>alldepuninsured</th>\n",
       "      <th>...</th>\n",
       "      <th>securitiesrmbs_1y_3y</th>\n",
       "      <th>securitiesrmbs_3y_5y</th>\n",
       "      <th>securitiesrmbs_5y_15y</th>\n",
       "      <th>securitiesrmbs_over_15y</th>\n",
       "      <th>resloans_less_3m</th>\n",
       "      <th>resloans_3m_1y</th>\n",
       "      <th>resloans_1y_3y</th>\n",
       "      <th>resloans_3y_5y</th>\n",
       "      <th>resloans_5y_15y</th>\n",
       "      <th>resloans_over_15y</th>\n",
       "    </tr>\n",
       "  </thead>\n",
       "  <tbody>\n",
       "    <tr>\n",
       "      <th>0</th>\n",
       "      <td>1000052</td>\n",
       "      <td>2022-03-31</td>\n",
       "      <td>563110.0</td>\n",
       "      <td>9155.0</td>\n",
       "      <td>115340.0</td>\n",
       "      <td>92960.0</td>\n",
       "      <td>0.0</td>\n",
       "      <td>377073.0</td>\n",
       "      <td>473143.0</td>\n",
       "      <td>115688.0</td>\n",
       "      <td>...</td>\n",
       "      <td>4.0</td>\n",
       "      <td>244.0</td>\n",
       "      <td>4915.0</td>\n",
       "      <td>0.0</td>\n",
       "      <td>3534.0</td>\n",
       "      <td>6017.0</td>\n",
       "      <td>10089.0</td>\n",
       "      <td>4826.0</td>\n",
       "      <td>3743.0</td>\n",
       "      <td>4574.0</td>\n",
       "    </tr>\n",
       "    <tr>\n",
       "      <th>1</th>\n",
       "      <td>1000276</td>\n",
       "      <td>2022-03-31</td>\n",
       "      <td>399377.0</td>\n",
       "      <td>0.0</td>\n",
       "      <td>99292.0</td>\n",
       "      <td>46426.0</td>\n",
       "      <td>0.0</td>\n",
       "      <td>249412.0</td>\n",
       "      <td>336076.0</td>\n",
       "      <td>95359.0</td>\n",
       "      <td>...</td>\n",
       "      <td>0.0</td>\n",
       "      <td>0.0</td>\n",
       "      <td>12487.0</td>\n",
       "      <td>23889.0</td>\n",
       "      <td>637.0</td>\n",
       "      <td>5082.0</td>\n",
       "      <td>13259.0</td>\n",
       "      <td>20434.0</td>\n",
       "      <td>47627.0</td>\n",
       "      <td>56174.0</td>\n",
       "    </tr>\n",
       "    <tr>\n",
       "      <th>2</th>\n",
       "      <td>1000641</td>\n",
       "      <td>2022-03-31</td>\n",
       "      <td>790350.0</td>\n",
       "      <td>226882.0</td>\n",
       "      <td>98841.0</td>\n",
       "      <td>186588.0</td>\n",
       "      <td>0.0</td>\n",
       "      <td>362852.0</td>\n",
       "      <td>718769.0</td>\n",
       "      <td>237702.0</td>\n",
       "      <td>...</td>\n",
       "      <td>337.0</td>\n",
       "      <td>1589.0</td>\n",
       "      <td>92159.0</td>\n",
       "      <td>30708.0</td>\n",
       "      <td>995.0</td>\n",
       "      <td>1154.0</td>\n",
       "      <td>1331.0</td>\n",
       "      <td>1610.0</td>\n",
       "      <td>28272.0</td>\n",
       "      <td>75531.0</td>\n",
       "    </tr>\n",
       "    <tr>\n",
       "      <th>3</th>\n",
       "      <td>1000856</td>\n",
       "      <td>2022-03-31</td>\n",
       "      <td>28661.0</td>\n",
       "      <td>0.0</td>\n",
       "      <td>7794.0</td>\n",
       "      <td>0.0</td>\n",
       "      <td>0.0</td>\n",
       "      <td>11580.0</td>\n",
       "      <td>22407.0</td>\n",
       "      <td>2263.0</td>\n",
       "      <td>...</td>\n",
       "      <td>0.0</td>\n",
       "      <td>0.0</td>\n",
       "      <td>0.0</td>\n",
       "      <td>0.0</td>\n",
       "      <td>422.0</td>\n",
       "      <td>305.0</td>\n",
       "      <td>2173.0</td>\n",
       "      <td>3575.0</td>\n",
       "      <td>573.0</td>\n",
       "      <td>0.0</td>\n",
       "    </tr>\n",
       "    <tr>\n",
       "      <th>4</th>\n",
       "      <td>1000959</td>\n",
       "      <td>2022-03-31</td>\n",
       "      <td>213578.0</td>\n",
       "      <td>0.0</td>\n",
       "      <td>76173.0</td>\n",
       "      <td>32918.0</td>\n",
       "      <td>180.0</td>\n",
       "      <td>99876.0</td>\n",
       "      <td>192585.0</td>\n",
       "      <td>53904.0</td>\n",
       "      <td>...</td>\n",
       "      <td>998.0</td>\n",
       "      <td>0.0</td>\n",
       "      <td>13107.0</td>\n",
       "      <td>0.0</td>\n",
       "      <td>587.0</td>\n",
       "      <td>3327.0</td>\n",
       "      <td>6898.0</td>\n",
       "      <td>7978.0</td>\n",
       "      <td>924.0</td>\n",
       "      <td>0.0</td>\n",
       "    </tr>\n",
       "  </tbody>\n",
       "</table>\n",
       "<p>5 rows × 25 columns</p>\n",
       "</div>"
      ],
      "text/plain": [
       "  rssd9001       date    assets  securitiesheldtomaturity  \\\n",
       "0  1000052 2022-03-31  563110.0                    9155.0   \n",
       "1  1000276 2022-03-31  399377.0                       0.0   \n",
       "2  1000641 2022-03-31  790350.0                  226882.0   \n",
       "3  1000856 2022-03-31   28661.0                       0.0   \n",
       "4  1000959 2022-03-31  213578.0                       0.0   \n",
       "\n",
       "   securitiesavailableforsale  mbsassets  absassets     loans  totaldep  \\\n",
       "0                    115340.0    92960.0        0.0  377073.0  473143.0   \n",
       "1                     99292.0    46426.0        0.0  249412.0  336076.0   \n",
       "2                     98841.0   186588.0        0.0  362852.0  718769.0   \n",
       "3                      7794.0        0.0        0.0   11580.0   22407.0   \n",
       "4                     76173.0    32918.0      180.0   99876.0  192585.0   \n",
       "\n",
       "   alldepuninsured  ...  securitiesrmbs_1y_3y  securitiesrmbs_3y_5y  \\\n",
       "0         115688.0  ...                   4.0                 244.0   \n",
       "1          95359.0  ...                   0.0                   0.0   \n",
       "2         237702.0  ...                 337.0                1589.0   \n",
       "3           2263.0  ...                   0.0                   0.0   \n",
       "4          53904.0  ...                 998.0                   0.0   \n",
       "\n",
       "   securitiesrmbs_5y_15y  securitiesrmbs_over_15y  resloans_less_3m  \\\n",
       "0                 4915.0                      0.0            3534.0   \n",
       "1                12487.0                  23889.0             637.0   \n",
       "2                92159.0                  30708.0             995.0   \n",
       "3                    0.0                      0.0             422.0   \n",
       "4                13107.0                      0.0             587.0   \n",
       "\n",
       "   resloans_3m_1y  resloans_1y_3y  resloans_3y_5y  resloans_5y_15y  \\\n",
       "0          6017.0         10089.0          4826.0           3743.0   \n",
       "1          5082.0         13259.0         20434.0          47627.0   \n",
       "2          1154.0          1331.0          1610.0          28272.0   \n",
       "3           305.0          2173.0          3575.0            573.0   \n",
       "4          3327.0          6898.0          7978.0            924.0   \n",
       "\n",
       "   resloans_over_15y  \n",
       "0             4574.0  \n",
       "1            56174.0  \n",
       "2            75531.0  \n",
       "3                0.0  \n",
       "4                0.0  \n",
       "\n",
       "[5 rows x 25 columns]"
      ]
     },
     "execution_count": 229,
     "metadata": {},
     "output_type": "execute_result"
    }
   ],
   "source": [
    "df_new.head()"
   ]
  },
  {
   "cell_type": "code",
   "execution_count": 230,
   "metadata": {},
   "outputs": [],
   "source": [
    "df_sorted = df_new.sort_values(by=['date'])\n",
    "df_final = df_sorted.groupby('rssd9001').first().reset_index()"
   ]
  },
  {
   "cell_type": "markdown",
   "metadata": {},
   "source": [
    "### Calculate MTM Losses"
   ]
  },
  {
   "cell_type": "code",
   "execution_count": 231,
   "metadata": {},
   "outputs": [],
   "source": [
    "df_final['mtm_loss_mbs'] = df_final['mbsassets'] * etf_mbs_change\n",
    "df_final['mtm_loss_treasury'] = df_final['treasurysec'] * treasury_change\n",
    "df_final['mtm_loss_loans'] = df_final['loans'] * treasury_change\n",
    "df_final['total_mtm_loss'] = df_final['mtm_loss_mbs'] + df_final['mtm_loss_treasury'] + df_final['mtm_loss_loans']"
   ]
  },
  {
   "cell_type": "code",
   "execution_count": 232,
   "metadata": {},
   "outputs": [],
   "source": [
    "aggregate_loss = df_final['total_mtm_loss'].sum()"
   ]
  },
  {
   "cell_type": "code",
   "execution_count": 233,
   "metadata": {},
   "outputs": [],
   "source": [
    "df_final['share_rmbs'] = df_final['mtm_loss_mbs'] / df_final['total_mtm_loss']\n",
    "df_final['share_treasury_other'] = df_final['mtm_loss_treasury'] / df_final['total_mtm_loss']\n",
    "df_final['share_residential_mortgage'] = df_final['mtm_loss_loans'] / df_final['total_mtm_loss']"
   ]
  },
  {
   "cell_type": "code",
   "execution_count": 234,
   "metadata": {},
   "outputs": [],
   "source": [
    "df_final['loss_to_asset'] = df_final['total_mtm_loss'] / df_final['assets']\n",
    "df_final['uninsured_deposit_mm_asset'] = df_final['alldepuninsured'] / (df_final['assets'] - df_final['total_mtm_loss'])"
   ]
  },
  {
   "cell_type": "markdown",
   "metadata": {},
   "source": [
    "### Assets"
   ]
  },
  {
   "cell_type": "code",
   "execution_count": 235,
   "metadata": {},
   "outputs": [],
   "source": [
    "df_assets = df_new[['rssd9001', 'date', 'assets']]"
   ]
  },
  {
   "cell_type": "code",
   "execution_count": 236,
   "metadata": {},
   "outputs": [],
   "source": [
    "df_asset = df_assets #total assets all banks\n",
    "\n",
    "#list of GSIB bank IDs\n",
    "GSIB = helper_functions.GSIB_bank_id()\n",
    "GSIB = [str(element) for element in GSIB]\n",
    "\n",
    "#total assets all GSIB banks\n",
    "df_asset_GSIB = df_asset[df_asset['rssd9001'].isin(GSIB)]\n",
    "\n",
    "#total assets large non-GSIB banks\n",
    "df_asset_large_ex_GSIB = df_asset[(~df_asset['rssd9001'].isin(GSIB)) & (df_asset['assets']>1384000)]\n",
    "\n",
    "#total assets small banks\n",
    "df_asset_small = df_asset[(~df_asset['rssd9001'].isin(GSIB)) & (df_asset['assets']<=1384000)] "
   ]
  },
  {
   "cell_type": "code",
   "execution_count": 270,
   "metadata": {},
   "outputs": [
    {
     "data": {
      "text/html": [
       "<div>\n",
       "<style scoped>\n",
       "    .dataframe tbody tr th:only-of-type {\n",
       "        vertical-align: middle;\n",
       "    }\n",
       "\n",
       "    .dataframe tbody tr th {\n",
       "        vertical-align: top;\n",
       "    }\n",
       "\n",
       "    .dataframe thead th {\n",
       "        text-align: right;\n",
       "    }\n",
       "</style>\n",
       "<table border=\"1\" class=\"dataframe\">\n",
       "  <thead>\n",
       "    <tr style=\"text-align: right;\">\n",
       "      <th></th>\n",
       "      <th>rssd9001</th>\n",
       "      <th>date</th>\n",
       "      <th>assets</th>\n",
       "    </tr>\n",
       "  </thead>\n",
       "  <tbody>\n",
       "    <tr>\n",
       "      <th>1475</th>\n",
       "      <td>30810</td>\n",
       "      <td>2022-03-31</td>\n",
       "      <td>105657408.0</td>\n",
       "    </tr>\n",
       "  </tbody>\n",
       "</table>\n",
       "</div>"
      ],
      "text/plain": [
       "     rssd9001       date       assets\n",
       "1475    30810 2022-03-31  105657408.0"
      ]
     },
     "execution_count": 270,
     "metadata": {},
     "output_type": "execute_result"
    }
   ],
   "source": [
    "df_asset[df['rssd9001'] == '30810'].head()"
   ]
  },
  {
   "cell_type": "code",
   "execution_count": 269,
   "metadata": {},
   "outputs": [
    {
     "data": {
      "text/plain": [
       "(831, 17, 4064, 4913)"
      ]
     },
     "execution_count": 269,
     "metadata": {},
     "output_type": "execute_result"
    }
   ],
   "source": [
    "len(df_asset_large_ex_GSIB), len(df_asset_GSIB), len(df_asset_small), len(df_new)"
   ]
  },
  {
   "cell_type": "markdown",
   "metadata": {},
   "source": [
    "### Insured"
   ]
  },
  {
   "cell_type": "code",
   "execution_count": 238,
   "metadata": {},
   "outputs": [],
   "source": [
    "df_insured = df_new[['rssd9001', 'date', 'alldepuninsured','timedepuninsured', 'domdepuninsured']]"
   ]
  },
  {
   "cell_type": "markdown",
   "metadata": {},
   "source": [
    "### RMBs"
   ]
  },
  {
   "cell_type": "code",
   "execution_count": 239,
   "metadata": {},
   "outputs": [],
   "source": [
    "df_rmbs = df_final[['rssd9001', 'date', 'securitiesrmbs_less_3m', 'securitiesrmbs_3m_1y', 'securitiesrmbs_1y_3y', 'securitiesrmbs_3y_5y', 'securitiesrmbs_5y_15y', 'securitiesrmbs_over_15y']]"
   ]
  },
  {
   "cell_type": "code",
   "execution_count": 273,
   "metadata": {},
   "outputs": [
    {
     "data": {
      "text/html": [
       "<div>\n",
       "<style scoped>\n",
       "    .dataframe tbody tr th:only-of-type {\n",
       "        vertical-align: middle;\n",
       "    }\n",
       "\n",
       "    .dataframe tbody tr th {\n",
       "        vertical-align: top;\n",
       "    }\n",
       "\n",
       "    .dataframe thead th {\n",
       "        text-align: right;\n",
       "    }\n",
       "</style>\n",
       "<table border=\"1\" class=\"dataframe\">\n",
       "  <thead>\n",
       "    <tr style=\"text-align: right;\">\n",
       "      <th></th>\n",
       "      <th>rssd9001</th>\n",
       "      <th>date</th>\n",
       "      <th>&lt;3m</th>\n",
       "      <th>3m-1y</th>\n",
       "      <th>1y-3y</th>\n",
       "      <th>3y-5y</th>\n",
       "      <th>5y-15y</th>\n",
       "      <th>&gt;15y</th>\n",
       "    </tr>\n",
       "  </thead>\n",
       "  <tbody>\n",
       "    <tr>\n",
       "      <th>2037</th>\n",
       "      <td>37</td>\n",
       "      <td>2022-03-31</td>\n",
       "      <td>0.0</td>\n",
       "      <td>0.0</td>\n",
       "      <td>0.0</td>\n",
       "      <td>0.0</td>\n",
       "      <td>856.0</td>\n",
       "      <td>6021.0</td>\n",
       "    </tr>\n",
       "  </tbody>\n",
       "</table>\n",
       "</div>"
      ],
      "text/plain": [
       "     rssd9001       date  <3m  3m-1y  1y-3y  3y-5y  5y-15y    >15y\n",
       "2037       37 2022-03-31  0.0    0.0    0.0    0.0   856.0  6021.0"
      ]
     },
     "execution_count": 273,
     "metadata": {},
     "output_type": "execute_result"
    }
   ],
   "source": [
    "df_rmbs[df_rmbs['rssd9001'] == '37'].head()"
   ]
  },
  {
   "cell_type": "markdown",
   "metadata": {},
   "source": [
    "### Loans"
   ]
  },
  {
   "cell_type": "code",
   "execution_count": 240,
   "metadata": {},
   "outputs": [],
   "source": [
    "df_loans = df_final[['rssd9001', 'date', 'resloans_less_3m', 'resloans_3m_1y', 'resloans_1y_3y', 'resloans_3y_5y', 'resloans_5y_15y', 'resloans_over_15y']]"
   ]
  },
  {
   "cell_type": "code",
   "execution_count": 241,
   "metadata": {},
   "outputs": [
    {
     "data": {
      "text/html": [
       "<div>\n",
       "<style scoped>\n",
       "    .dataframe tbody tr th:only-of-type {\n",
       "        vertical-align: middle;\n",
       "    }\n",
       "\n",
       "    .dataframe tbody tr th {\n",
       "        vertical-align: top;\n",
       "    }\n",
       "\n",
       "    .dataframe thead th {\n",
       "        text-align: right;\n",
       "    }\n",
       "</style>\n",
       "<table border=\"1\" class=\"dataframe\">\n",
       "  <thead>\n",
       "    <tr style=\"text-align: right;\">\n",
       "      <th></th>\n",
       "      <th>rssd9001</th>\n",
       "      <th>date</th>\n",
       "      <th>resloans_less_3m</th>\n",
       "      <th>resloans_3m_1y</th>\n",
       "      <th>resloans_1y_3y</th>\n",
       "      <th>resloans_3y_5y</th>\n",
       "      <th>resloans_5y_15y</th>\n",
       "      <th>resloans_over_15y</th>\n",
       "    </tr>\n",
       "  </thead>\n",
       "  <tbody>\n",
       "    <tr>\n",
       "      <th>2037</th>\n",
       "      <td>37</td>\n",
       "      <td>2022-03-31</td>\n",
       "      <td>355.0</td>\n",
       "      <td>354.0</td>\n",
       "      <td>2430.0</td>\n",
       "      <td>2229.0</td>\n",
       "      <td>2641.0</td>\n",
       "      <td>0.0</td>\n",
       "    </tr>\n",
       "  </tbody>\n",
       "</table>\n",
       "</div>"
      ],
      "text/plain": [
       "     rssd9001       date  resloans_less_3m  resloans_3m_1y  resloans_1y_3y  \\\n",
       "2037       37 2022-03-31             355.0           354.0          2430.0   \n",
       "\n",
       "      resloans_3y_5y  resloans_5y_15y  resloans_over_15y  \n",
       "2037          2229.0           2641.0                0.0  "
      ]
     },
     "execution_count": 241,
     "metadata": {},
     "output_type": "execute_result"
    }
   ],
   "source": [
    "df_loans[df_loans['rssd9001'] == '37'].head()"
   ]
  },
  {
   "cell_type": "code",
   "execution_count": 242,
   "metadata": {},
   "outputs": [
    {
     "data": {
      "text/plain": [
       "Index(['rssd9001', 'date', 'assets', 'securitiesheldtomaturity',\n",
       "       'securitiesavailableforsale', 'mbsassets', 'absassets', 'loans',\n",
       "       'totaldep', 'alldepuninsured', 'treasurysec', 'timedepuninsured',\n",
       "       'domdepuninsured', 'securitiesrmbs_less_3m', 'securitiesrmbs_3m_1y',\n",
       "       'securitiesrmbs_1y_3y', 'securitiesrmbs_3y_5y', 'securitiesrmbs_5y_15y',\n",
       "       'securitiesrmbs_over_15y', 'resloans_less_3m', 'resloans_3m_1y',\n",
       "       'resloans_1y_3y', 'resloans_3y_5y', 'resloans_5y_15y',\n",
       "       'resloans_over_15y', 'mtm_loss_mbs', 'mtm_loss_treasury',\n",
       "       'mtm_loss_loans', 'total_mtm_loss', 'share_rmbs',\n",
       "       'share_treasury_other', 'share_residential_mortgage', 'loss_to_asset',\n",
       "       'uninsured_deposit_mm_asset'],\n",
       "      dtype='object')"
      ]
     },
     "execution_count": 242,
     "metadata": {},
     "output_type": "execute_result"
    }
   ],
   "source": [
    "df_final.columns"
   ]
  },
  {
   "cell_type": "markdown",
   "metadata": {},
   "source": [
    "### Treasuries"
   ]
  },
  {
   "cell_type": "code",
   "execution_count": 243,
   "metadata": {},
   "outputs": [],
   "source": [
    "df_treasuries = df_filtered[['rssd9001', 'date', 'securitiestreasury_less_3m',\n",
    "'securitiestreasury_3m_1y',\n",
    "'securitiestreasury_1y_3y',\n",
    "'securitiestreasury_3y_5y',\n",
    "'securitiestreasury_5y_15y',\n",
    "'securitiestreasury_over_15y']]"
   ]
  },
  {
   "cell_type": "code",
   "execution_count": 274,
   "metadata": {},
   "outputs": [
    {
     "data": {
      "text/html": [
       "<div>\n",
       "<style scoped>\n",
       "    .dataframe tbody tr th:only-of-type {\n",
       "        vertical-align: middle;\n",
       "    }\n",
       "\n",
       "    .dataframe tbody tr th {\n",
       "        vertical-align: top;\n",
       "    }\n",
       "\n",
       "    .dataframe thead th {\n",
       "        text-align: right;\n",
       "    }\n",
       "</style>\n",
       "<table border=\"1\" class=\"dataframe\">\n",
       "  <thead>\n",
       "    <tr style=\"text-align: right;\">\n",
       "      <th></th>\n",
       "      <th>rssd9001</th>\n",
       "      <th>date</th>\n",
       "      <th>&lt;3m</th>\n",
       "      <th>3m-1y</th>\n",
       "      <th>1y-3y</th>\n",
       "      <th>3y-5y</th>\n",
       "      <th>5y-15y</th>\n",
       "      <th>&gt;15y</th>\n",
       "    </tr>\n",
       "  </thead>\n",
       "  <tbody>\n",
       "    <tr>\n",
       "      <th>2037</th>\n",
       "      <td>37</td>\n",
       "      <td>2022-03-31</td>\n",
       "      <td>0.0</td>\n",
       "      <td>0.0</td>\n",
       "      <td>330.0</td>\n",
       "      <td>708.0</td>\n",
       "      <td>26220.0</td>\n",
       "      <td>19212.0</td>\n",
       "    </tr>\n",
       "  </tbody>\n",
       "</table>\n",
       "</div>"
      ],
      "text/plain": [
       "     rssd9001       date  <3m  3m-1y  1y-3y  3y-5y   5y-15y     >15y\n",
       "2037       37 2022-03-31  0.0    0.0  330.0  708.0  26220.0  19212.0"
      ]
     },
     "execution_count": 274,
     "metadata": {},
     "output_type": "execute_result"
    }
   ],
   "source": [
    "df_treasuries[df_treasuries['rssd9001'] == '37'].head()"
   ]
  },
  {
   "cell_type": "markdown",
   "metadata": {},
   "source": [
    "### Other Loans"
   ]
  },
  {
   "cell_type": "code",
   "execution_count": 244,
   "metadata": {},
   "outputs": [],
   "source": [
    "df_other_loans = df_filtered[['rssd9001', 'date', 'loansleases_less_3m',\n",
    "'loansleases_3m_1y',\n",
    "'loansleases_1y_3y',\n",
    "'loansleases_3y_5y',\n",
    "'loansleases_5y_15y',\n",
    "'loansleases_over_15y']]"
   ]
  },
  {
   "cell_type": "code",
   "execution_count": 245,
   "metadata": {},
   "outputs": [
    {
     "data": {
      "text/html": [
       "<div>\n",
       "<style scoped>\n",
       "    .dataframe tbody tr th:only-of-type {\n",
       "        vertical-align: middle;\n",
       "    }\n",
       "\n",
       "    .dataframe tbody tr th {\n",
       "        vertical-align: top;\n",
       "    }\n",
       "\n",
       "    .dataframe thead th {\n",
       "        text-align: right;\n",
       "    }\n",
       "</style>\n",
       "<table border=\"1\" class=\"dataframe\">\n",
       "  <thead>\n",
       "    <tr style=\"text-align: right;\">\n",
       "      <th></th>\n",
       "      <th>rssd9001</th>\n",
       "      <th>date</th>\n",
       "      <th>loansleases_less_3m</th>\n",
       "      <th>loansleases_3m_1y</th>\n",
       "      <th>loansleases_1y_3y</th>\n",
       "      <th>loansleases_3y_5y</th>\n",
       "      <th>loansleases_5y_15y</th>\n",
       "      <th>loansleases_over_15y</th>\n",
       "    </tr>\n",
       "  </thead>\n",
       "  <tbody>\n",
       "    <tr>\n",
       "      <th>2037</th>\n",
       "      <td>37</td>\n",
       "      <td>2022-03-31</td>\n",
       "      <td>1437.0</td>\n",
       "      <td>3928.0</td>\n",
       "      <td>5358.0</td>\n",
       "      <td>5317.0</td>\n",
       "      <td>4747.0</td>\n",
       "      <td>0.0</td>\n",
       "    </tr>\n",
       "  </tbody>\n",
       "</table>\n",
       "</div>"
      ],
      "text/plain": [
       "     rssd9001       date  loansleases_less_3m  loansleases_3m_1y  \\\n",
       "2037       37 2022-03-31               1437.0             3928.0   \n",
       "\n",
       "      loansleases_1y_3y  loansleases_3y_5y  loansleases_5y_15y  \\\n",
       "2037             5358.0             5317.0              4747.0   \n",
       "\n",
       "      loansleases_over_15y  \n",
       "2037                   0.0  "
      ]
     },
     "execution_count": 245,
     "metadata": {},
     "output_type": "execute_result"
    }
   ],
   "source": [
    "df_other_loans[df_other_loans['rssd9001'] == '37'].head()"
   ]
  },
  {
   "cell_type": "markdown",
   "metadata": {},
   "source": [
    "### Other"
   ]
  },
  {
   "cell_type": "code",
   "execution_count": 275,
   "metadata": {},
   "outputs": [],
   "source": [
    "df_rmbs = df_rmbs.rename(columns={\n",
    "'securitiesrmbs_less_3m': '<3m',\n",
    "'securitiesrmbs_3m_1y':'3m-1y',\n",
    "'securitiesrmbs_1y_3y':'1y-3y',\n",
    "'securitiesrmbs_3y_5y':'3y-5y',\n",
    "'securitiesrmbs_5y_15y':'5y-15y',\n",
    "'securitiesrmbs_over_15y':'>15y',\n",
    "})\n",
    "\n",
    "df_treasuries = df_treasuries.rename(columns={\n",
    "'securitiestreasury_less_3m': '<3m',\n",
    "'securitiestreasury_3m_1y':'3m-1y',\n",
    "'securitiestreasury_1y_3y':'1y-3y',\n",
    "'securitiestreasury_3y_5y':'3y-5y',\n",
    "'securitiestreasury_5y_15y':'5y-15y',\n",
    "'securitiestreasury_over_15y':'>15y',\n",
    "})\n",
    "\n",
    "df_loans = df_loans.rename(columns={\n",
    "'resloans_less_3m': '<3m',\n",
    "'resloans_3m_1y':'3m-1y',\n",
    "'resloans_1y_3y':'1y-3y',\n",
    "'resloans_3y_5y':'3y-5y',\n",
    "'resloans_5y_15y':'5y-15y',\n",
    "'resloans_over_15y':'>15y',\n",
    "})\n",
    "\n",
    "df_other_loans = df_other_loans.rename(columns={\n",
    "'loansleases_less_3m': '<3m',\n",
    "'loansleases_3m_1y':'3m-1y',\n",
    "'loansleases_1y_3y':'1y-3y',\n",
    "'loansleases_3y_5y':'3y-5y',\n",
    "'loansleases_5y_15y':'5y-15y',\n",
    "'loansleases_over_15y':'>15y',\n",
    "})"
   ]
  },
  {
   "cell_type": "code",
   "execution_count": 277,
   "metadata": {},
   "outputs": [
    {
     "name": "stdout",
     "output_type": "stream",
     "text": [
      "total assets: 18,174,670,246.00\n",
      "assets ratio: 65.92%\n"
     ]
    }
   ],
   "source": [
    "sum_asset = 0\n",
    "for df in [df_rmbs, df_loans, df_treasuries, df_other_loans]:\n",
    "    total = df[['<3m', '3m-1y', '1y-3y', '3y-5y', '5y-15y', '>15y']].sum().sum()\n",
    "    sum_asset += total\n",
    "\n",
    "print('total assets:',\"{:,.2f}\".format(sum_asset))\n",
    "total_asset = df_asset['assets'].sum()\n",
    "print('assets ratio:',\"{:,.2%}\".format(sum_asset/total_asset))"
   ]
  },
  {
   "cell_type": "code",
   "execution_count": 246,
   "metadata": {},
   "outputs": [],
   "source": [
    "rcon_series_1 = pull_WRDS_call_reports.load_RCON_series_1()"
   ]
  },
  {
   "cell_type": "code",
   "execution_count": null,
   "metadata": {},
   "outputs": [],
   "source": []
  },
  {
   "cell_type": "code",
   "execution_count": 247,
   "metadata": {},
   "outputs": [],
   "source": [
    "rcon_series_1['rssd9999'] = pd.to_datetime(rcon_series_1['rssd9999'])\n",
    "# Define required dates\n",
    "required_dates = [pd.Timestamp(\"2022-03-31\"), pd.Timestamp(\"2023-03-31\")]\n",
    "\n",
    "rcon_series_1 = rcon_series_1.groupby('rssd9001').filter(lambda x: all(date in x['rssd9999'].values for date in required_dates))\n",
    "rcon_series_1 = rcon_series_1.rename(columns={\n",
    "    'rssd9999': 'date'\n",
    "})"
   ]
  },
  {
   "cell_type": "code",
   "execution_count": 248,
   "metadata": {},
   "outputs": [],
   "source": [
    "df_uninsured = rcon_series_1[['rssd9001', 'date', 'uninsured_deposits']]\n",
    "df_insured = rcon_series_1[['rssd9001', 'date', 'insured_deposit_1', 'insured_deposit_2']]"
   ]
  },
  {
   "cell_type": "code",
   "execution_count": 249,
   "metadata": {},
   "outputs": [],
   "source": [
    "asset_small = df_asset_small['rssd9001'].unique()\n",
    "asset_large_ex_GSIB = df_asset_large_ex_GSIB['rssd9001'].unique()"
   ]
  },
  {
   "cell_type": "code",
   "execution_count": 250,
   "metadata": {},
   "outputs": [
    {
     "data": {
      "text/plain": [
       "(831, 4064, 17)"
      ]
     },
     "execution_count": 250,
     "metadata": {},
     "output_type": "execute_result"
    }
   ],
   "source": [
    "len(df_asset_large_ex_GSIB), len(df_asset_small), len(GSIB)"
   ]
  },
  {
   "cell_type": "code",
   "execution_count": 283,
   "metadata": {},
   "outputs": [
    {
     "data": {
      "text/plain": [
       "1.8904405040465027"
      ]
     },
     "execution_count": 283,
     "metadata": {},
     "output_type": "execute_result"
    }
   ],
   "source": [
    "importlib.reload(helper_functions)\n",
    "etf_mbs_change = helper_functions.get_etf_mbs_change(etf_mbs)\n",
    "treasury_change = helper_functions.get_treasury_change(treasuries_data)\n",
    "rmbs_multiplier = etf_mbs_change / treasury_change\n",
    "rmbs_multiplier"
   ]
  },
  {
   "cell_type": "code",
   "execution_count": 282,
   "metadata": {},
   "outputs": [
    {
     "data": {
      "text/html": [
       "<div>\n",
       "<style scoped>\n",
       "    .dataframe tbody tr th:only-of-type {\n",
       "        vertical-align: middle;\n",
       "    }\n",
       "\n",
       "    .dataframe tbody tr th {\n",
       "        vertical-align: top;\n",
       "    }\n",
       "\n",
       "    .dataframe thead th {\n",
       "        text-align: right;\n",
       "    }\n",
       "</style>\n",
       "<table border=\"1\" class=\"dataframe\">\n",
       "  <thead>\n",
       "    <tr style=\"text-align: right;\">\n",
       "      <th></th>\n",
       "      <th>Date</th>\n",
       "      <th>Close/Last</th>\n",
       "      <th>Volume</th>\n",
       "      <th>Open</th>\n",
       "      <th>High</th>\n",
       "      <th>Low</th>\n",
       "    </tr>\n",
       "  </thead>\n",
       "  <tbody>\n",
       "    <tr>\n",
       "      <th>1252</th>\n",
       "      <td>03/03/2020</td>\n",
       "      <td>109.81</td>\n",
       "      <td>4320449</td>\n",
       "      <td>109.58</td>\n",
       "      <td>109.8900</td>\n",
       "      <td>109.520</td>\n",
       "    </tr>\n",
       "    <tr>\n",
       "      <th>1253</th>\n",
       "      <td>03/02/2020</td>\n",
       "      <td>109.55</td>\n",
       "      <td>2277338</td>\n",
       "      <td>109.61</td>\n",
       "      <td>109.7500</td>\n",
       "      <td>109.465</td>\n",
       "    </tr>\n",
       "    <tr>\n",
       "      <th>1254</th>\n",
       "      <td>02/28/2020</td>\n",
       "      <td>109.50</td>\n",
       "      <td>2779204</td>\n",
       "      <td>109.53</td>\n",
       "      <td>109.7700</td>\n",
       "      <td>109.474</td>\n",
       "    </tr>\n",
       "    <tr>\n",
       "      <th>1255</th>\n",
       "      <td>02/27/2020</td>\n",
       "      <td>109.28</td>\n",
       "      <td>1642608</td>\n",
       "      <td>109.31</td>\n",
       "      <td>109.4000</td>\n",
       "      <td>109.230</td>\n",
       "    </tr>\n",
       "    <tr>\n",
       "      <th>1256</th>\n",
       "      <td>02/26/2020</td>\n",
       "      <td>109.16</td>\n",
       "      <td>2021247</td>\n",
       "      <td>109.16</td>\n",
       "      <td>109.2501</td>\n",
       "      <td>109.080</td>\n",
       "    </tr>\n",
       "  </tbody>\n",
       "</table>\n",
       "</div>"
      ],
      "text/plain": [
       "            Date  Close/Last   Volume    Open      High      Low\n",
       "1252  03/03/2020      109.81  4320449  109.58  109.8900  109.520\n",
       "1253  03/02/2020      109.55  2277338  109.61  109.7500  109.465\n",
       "1254  02/28/2020      109.50  2779204  109.53  109.7700  109.474\n",
       "1255  02/27/2020      109.28  1642608  109.31  109.4000  109.230\n",
       "1256  02/26/2020      109.16  2021247  109.16  109.2501  109.080"
      ]
     },
     "execution_count": 282,
     "metadata": {},
     "output_type": "execute_result"
    }
   ],
   "source": [
    "etf_mbs.tail()"
   ]
  },
  {
   "cell_type": "code",
   "execution_count": 280,
   "metadata": {},
   "outputs": [
    {
     "data": {
      "text/plain": [
       "1.8904405040465027"
      ]
     },
     "execution_count": 280,
     "metadata": {},
     "output_type": "execute_result"
    }
   ],
   "source": [
    "rmbs_multiplier"
   ]
  },
  {
   "cell_type": "code",
   "execution_count": 285,
   "metadata": {},
   "outputs": [],
   "source": [
    "treasury_prices = pd.read_excel(\"../data/manual/combined_index_df.xlsx\")\n",
    "treasury_prices.set_index('date', inplace=True)\n",
    "start_date = \"2022-03-31\"\n",
    "end_date =\"2023-03-31\""
   ]
  },
  {
   "cell_type": "code",
   "execution_count": 294,
   "metadata": {},
   "outputs": [],
   "source": [
    "importlib.reload(helper_functions)\n",
    "bank_losses = helper_functions.calculate_losses(treasury_prices, df_rmbs, df_loans, df_treasuries, df_other_loans, df_asset, rmbs_multiplier)"
   ]
  },
  {
   "cell_type": "code",
   "execution_count": 295,
   "metadata": {},
   "outputs": [
    {
     "data": {
      "text/html": [
       "<div>\n",
       "<style scoped>\n",
       "    .dataframe tbody tr th:only-of-type {\n",
       "        vertical-align: middle;\n",
       "    }\n",
       "\n",
       "    .dataframe tbody tr th {\n",
       "        vertical-align: top;\n",
       "    }\n",
       "\n",
       "    .dataframe thead th {\n",
       "        text-align: right;\n",
       "    }\n",
       "</style>\n",
       "<table border=\"1\" class=\"dataframe\">\n",
       "  <thead>\n",
       "    <tr style=\"text-align: right;\">\n",
       "      <th></th>\n",
       "      <th>date</th>\n",
       "      <th>bank_ID</th>\n",
       "      <th>RMBs_loss</th>\n",
       "      <th>treasury_loss</th>\n",
       "      <th>loans_loss</th>\n",
       "      <th>other_loan_loss</th>\n",
       "      <th>total_loss</th>\n",
       "      <th>Share RMBs</th>\n",
       "      <th>Share Treasury and Other</th>\n",
       "      <th>Share Residential Mortgage</th>\n",
       "      <th>Share Other Loan</th>\n",
       "      <th>RMBs_asset</th>\n",
       "      <th>treasury_asset</th>\n",
       "      <th>residential_mortgage_asset</th>\n",
       "      <th>other_loan_asset</th>\n",
       "      <th>core_asset</th>\n",
       "      <th>gross_asset</th>\n",
       "      <th>loss/core_asset</th>\n",
       "      <th>loss/gross_asset</th>\n",
       "    </tr>\n",
       "  </thead>\n",
       "  <tbody>\n",
       "    <tr>\n",
       "      <th>231</th>\n",
       "      <td>2022-03-31</td>\n",
       "      <td>12311</td>\n",
       "      <td>-7.668946e+06</td>\n",
       "      <td>-352863.839663</td>\n",
       "      <td>-4.806793e+06</td>\n",
       "      <td>-3.169639e+06</td>\n",
       "      <td>-1.599824e+07</td>\n",
       "      <td>47.93618</td>\n",
       "      <td>2.205641</td>\n",
       "      <td>30.045756</td>\n",
       "      <td>19.812423</td>\n",
       "      <td>23910558.0</td>\n",
       "      <td>6623679.0</td>\n",
       "      <td>22529389.0</td>\n",
       "      <td>114651981.0</td>\n",
       "      <td>167715607.0</td>\n",
       "      <td>176020595.0</td>\n",
       "      <td>0.095389</td>\n",
       "      <td>0.090888</td>\n",
       "    </tr>\n",
       "  </tbody>\n",
       "</table>\n",
       "</div>"
      ],
      "text/plain": [
       "          date bank_ID     RMBs_loss  treasury_loss    loans_loss  \\\n",
       "231 2022-03-31   12311 -7.668946e+06 -352863.839663 -4.806793e+06   \n",
       "\n",
       "     other_loan_loss    total_loss  Share RMBs  Share Treasury and Other  \\\n",
       "231    -3.169639e+06 -1.599824e+07    47.93618                  2.205641   \n",
       "\n",
       "     Share Residential Mortgage  Share Other Loan  RMBs_asset  treasury_asset  \\\n",
       "231                   30.045756         19.812423  23910558.0       6623679.0   \n",
       "\n",
       "     residential_mortgage_asset  other_loan_asset   core_asset  gross_asset  \\\n",
       "231                  22529389.0       114651981.0  167715607.0  176020595.0   \n",
       "\n",
       "     loss/core_asset  loss/gross_asset  \n",
       "231         0.095389          0.090888  "
      ]
     },
     "execution_count": 295,
     "metadata": {},
     "output_type": "execute_result"
    }
   ],
   "source": [
    "bank_losses[bank_losses['bank_ID'] == '12311'].head()"
   ]
  },
  {
   "cell_type": "code",
   "execution_count": 297,
   "metadata": {},
   "outputs": [
    {
     "data": {
      "text/plain": [
       "Share RMBs                     9.427995\n",
       "Share Treasury and Other      10.008172\n",
       "Share Residential Mortgage    20.949797\n",
       "Share Other Loan              33.522608\n",
       "dtype: float64"
      ]
     },
     "execution_count": 297,
     "metadata": {},
     "output_type": "execute_result"
    }
   ],
   "source": [
    "median_percentage = bank_losses[['Share RMBs', 'Share Treasury and Other', \n",
    "        'Share Residential Mortgage', 'Share Other Loan']].median()\n",
    "median_percentage"
   ]
  },
  {
   "cell_type": "code",
   "execution_count": 298,
   "metadata": {},
   "outputs": [
    {
     "data": {
      "text/plain": [
       "Share RMBs                     83.869974\n",
       "Share Treasury and Other      104.999900\n",
       "Share Residential Mortgage     45.973768\n",
       "Share Other Loan              153.570322\n",
       "dtype: float64"
      ]
     },
     "execution_count": 298,
     "metadata": {},
     "output_type": "execute_result"
    }
   ],
   "source": [
    "std_percentages =bank_losses[['Share RMBs', 'Share Treasury and Other', \n",
    "        'Share Residential Mortgage', 'Share Other Loan']].std()\n",
    "std_percentages"
   ]
  },
  {
   "cell_type": "code",
   "execution_count": 299,
   "metadata": {},
   "outputs": [
    {
     "data": {
      "text/plain": [
       "-1550070097.810647"
      ]
     },
     "execution_count": 299,
     "metadata": {},
     "output_type": "execute_result"
    }
   ],
   "source": [
    "total_sum_loss = bank_losses['total_loss'].sum()\n",
    "total_sum_loss"
   ]
  },
  {
   "cell_type": "code",
   "execution_count": 300,
   "metadata": {},
   "outputs": [
    {
     "data": {
      "text/plain": [
       "-14980.472235690078"
      ]
     },
     "execution_count": 300,
     "metadata": {},
     "output_type": "execute_result"
    }
   ],
   "source": [
    "median_bank_loss = bank_losses['total_loss'].median()\n",
    "median_bank_loss "
   ]
  },
  {
   "cell_type": "code",
   "execution_count": 301,
   "metadata": {},
   "outputs": [
    {
     "data": {
      "text/plain": [
       "0.659237084971283"
      ]
     },
     "execution_count": 301,
     "metadata": {},
     "output_type": "execute_result"
    }
   ],
   "source": [
    "core_asset = bank_losses['core_asset'].sum()\n",
    "gross_asset = bank_losses['gross_asset'].sum()\n",
    "core_asset / gross_asset"
   ]
  },
  {
   "cell_type": "code",
   "execution_count": 302,
   "metadata": {},
   "outputs": [
    {
     "data": {
      "text/plain": [
       "0.05037982996684826"
      ]
     },
     "execution_count": 302,
     "metadata": {},
     "output_type": "execute_result"
    }
   ],
   "source": [
    "median_loss_asset_ratio = bank_losses['loss/gross_asset'].median()\n",
    "median_loss_asset_ratio"
   ]
  },
  {
   "cell_type": "code",
   "execution_count": 303,
   "metadata": {},
   "outputs": [
    {
     "data": {
      "text/plain": [
       "0.06346668599131544"
      ]
     },
     "execution_count": 303,
     "metadata": {},
     "output_type": "execute_result"
    }
   ],
   "source": [
    "average_loss_asset_ratio = bank_losses['loss/gross_asset'].mean()\n",
    "average_loss_asset_ratio"
   ]
  },
  {
   "cell_type": "code",
   "execution_count": 304,
   "metadata": {},
   "outputs": [
    {
     "data": {
      "text/plain": [
       "0.05740778542678102"
      ]
     },
     "execution_count": 304,
     "metadata": {},
     "output_type": "execute_result"
    }
   ],
   "source": [
    "std_loss_asset_ratio = bank_losses['loss/gross_asset'].std()\n",
    "std_loss_asset_ratio"
   ]
  },
  {
   "cell_type": "code",
   "execution_count": 306,
   "metadata": {},
   "outputs": [],
   "source": [
    "df_uninsured.head()\n",
    "uninsured_deposit = df_uninsured[df_uninsured['date'] == '2022-03-31']"
   ]
  },
  {
   "cell_type": "code",
   "execution_count": 341,
   "metadata": {},
   "outputs": [],
   "source": [
    "uninsured_deposit['rssd9001'] = uninsured_deposit['rssd9001'].astype(str)"
   ]
  },
  {
   "cell_type": "code",
   "execution_count": 342,
   "metadata": {},
   "outputs": [
    {
     "data": {
      "text/html": [
       "<div>\n",
       "<style scoped>\n",
       "    .dataframe tbody tr th:only-of-type {\n",
       "        vertical-align: middle;\n",
       "    }\n",
       "\n",
       "    .dataframe tbody tr th {\n",
       "        vertical-align: top;\n",
       "    }\n",
       "\n",
       "    .dataframe thead th {\n",
       "        text-align: right;\n",
       "    }\n",
       "</style>\n",
       "<table border=\"1\" class=\"dataframe\">\n",
       "  <thead>\n",
       "    <tr style=\"text-align: right;\">\n",
       "      <th></th>\n",
       "      <th>rssd9001</th>\n",
       "      <th>date</th>\n",
       "      <th>uninsured_deposits</th>\n",
       "    </tr>\n",
       "  </thead>\n",
       "  <tbody>\n",
       "    <tr>\n",
       "      <th>2</th>\n",
       "      <td>37</td>\n",
       "      <td>2022-03-31</td>\n",
       "      <td>NaN</td>\n",
       "    </tr>\n",
       "    <tr>\n",
       "      <th>8</th>\n",
       "      <td>21256</td>\n",
       "      <td>2022-03-31</td>\n",
       "      <td>NaN</td>\n",
       "    </tr>\n",
       "    <tr>\n",
       "      <th>10</th>\n",
       "      <td>457</td>\n",
       "      <td>2022-03-31</td>\n",
       "      <td>NaN</td>\n",
       "    </tr>\n",
       "    <tr>\n",
       "      <th>12</th>\n",
       "      <td>242</td>\n",
       "      <td>2022-03-31</td>\n",
       "      <td>NaN</td>\n",
       "    </tr>\n",
       "    <tr>\n",
       "      <th>26</th>\n",
       "      <td>279</td>\n",
       "      <td>2022-03-31</td>\n",
       "      <td>NaN</td>\n",
       "    </tr>\n",
       "  </tbody>\n",
       "</table>\n",
       "</div>"
      ],
      "text/plain": [
       "   rssd9001       date  uninsured_deposits\n",
       "2        37 2022-03-31                 NaN\n",
       "8     21256 2022-03-31                 NaN\n",
       "10      457 2022-03-31                 NaN\n",
       "12      242 2022-03-31                 NaN\n",
       "26      279 2022-03-31                 NaN"
      ]
     },
     "execution_count": 342,
     "metadata": {},
     "output_type": "execute_result"
    }
   ],
   "source": [
    "uninsured_deposit.head()"
   ]
  },
  {
   "cell_type": "code",
   "execution_count": 310,
   "metadata": {},
   "outputs": [
    {
     "data": {
      "text/plain": [
       "0.29453071112953516"
      ]
     },
     "execution_count": 310,
     "metadata": {},
     "output_type": "execute_result"
    }
   ],
   "source": [
    "uninsured_deposit['uninsured_deposits'].sum()/gross_asset "
   ]
  },
  {
   "cell_type": "code",
   "execution_count": 311,
   "metadata": {},
   "outputs": [
    {
     "data": {
      "text/plain": [
       "8119990022.0"
      ]
     },
     "execution_count": 311,
     "metadata": {},
     "output_type": "execute_result"
    }
   ],
   "source": [
    "uninsured_deposit['uninsured_deposits'].sum()"
   ]
  },
  {
   "cell_type": "code",
   "execution_count": 313,
   "metadata": {},
   "outputs": [
    {
     "data": {
      "text/plain": [
       "Index(['rssd9001', 'date', 'uninsured_deposits'], dtype='object')"
      ]
     },
     "execution_count": 313,
     "metadata": {},
     "output_type": "execute_result"
    }
   ],
   "source": [
    "uninsured_deposit.columns"
   ]
  },
  {
   "cell_type": "code",
   "execution_count": 316,
   "metadata": {},
   "outputs": [],
   "source": [
    "importlib.reload(helper_functions)\n",
    "un_mm_ratio = helper_functions.calculate_uninsured_deposit_mm_asset(uninsured_deposit, bank_losses)"
   ]
  },
  {
   "cell_type": "code",
   "execution_count": 318,
   "metadata": {},
   "outputs": [
    {
     "data": {
      "text/plain": [
       "-1550070097.810647"
      ]
     },
     "execution_count": 318,
     "metadata": {},
     "output_type": "execute_result"
    }
   ],
   "source": [
    "un_mm_ratio['total_loss'].sum()"
   ]
  },
  {
   "cell_type": "code",
   "execution_count": 319,
   "metadata": {},
   "outputs": [
    {
     "data": {
      "text/plain": [
       "27569247332.0"
      ]
     },
     "execution_count": 319,
     "metadata": {},
     "output_type": "execute_result"
    }
   ],
   "source": [
    "un_mm_ratio['total_asset'].sum()"
   ]
  },
  {
   "cell_type": "code",
   "execution_count": 320,
   "metadata": {},
   "outputs": [
    {
     "data": {
      "text/plain": [
       "26019177234.189354"
      ]
     },
     "execution_count": 320,
     "metadata": {},
     "output_type": "execute_result"
    }
   ],
   "source": [
    "un_mm_ratio['mm_asset'].sum()"
   ]
  },
  {
   "cell_type": "code",
   "execution_count": 321,
   "metadata": {},
   "outputs": [
    {
     "data": {
      "text/plain": [
       "0.0"
      ]
     },
     "execution_count": 321,
     "metadata": {},
     "output_type": "execute_result"
    }
   ],
   "source": [
    "un_mm_ratio['Uninsured_Deposit_MM_Asset'].median()"
   ]
  },
  {
   "cell_type": "code",
   "execution_count": 322,
   "metadata": {},
   "outputs": [
    {
     "data": {
      "text/plain": [
       "0.0"
      ]
     },
     "execution_count": 322,
     "metadata": {},
     "output_type": "execute_result"
    }
   ],
   "source": [
    "un_mm_ratio['Uninsured_Deposit_MM_Asset'].std()"
   ]
  },
  {
   "cell_type": "code",
   "execution_count": null,
   "metadata": {},
   "outputs": [],
   "source": [
    "#df_insured['insured_deposit'] = df_insured['insured_deposit_1'] + df_insured['insured_deposit_2']"
   ]
  },
  {
   "cell_type": "code",
   "execution_count": null,
   "metadata": {},
   "outputs": [
    {
     "data": {
      "text/plain": [
       "47832374119.0"
      ]
     },
     "execution_count": 327,
     "metadata": {},
     "output_type": "execute_result"
    }
   ],
   "source": [
    "# df_insured['insured_deposit'].sum()"
   ]
  },
  {
   "cell_type": "code",
   "execution_count": 329,
   "metadata": {},
   "outputs": [],
   "source": [
    "importlib.reload(helper_functions)\n",
    "large_ex_GSIB = helper_functions.large_ex_GSIB_bank_id(df_asset_large_ex_GSIB)\n",
    "small = helper_functions.small_bank_id(df_asset_small)"
   ]
  },
  {
   "cell_type": "code",
   "execution_count": 333,
   "metadata": {},
   "outputs": [
    {
     "data": {
      "text/plain": [
       "(17, 831, 4064)"
      ]
     },
     "execution_count": 333,
     "metadata": {},
     "output_type": "execute_result"
    }
   ],
   "source": [
    "len(df_asset_GSIB), len(df_asset_large_ex_GSIB), len(df_asset_small)"
   ]
  },
  {
   "cell_type": "code",
   "execution_count": null,
   "metadata": {},
   "outputs": [],
   "source": [
    "df_RMBS_GSIB = df_rmbs[df_rmbs['rssd9001'].isin(GSIB)]\n",
    "df_RMBS_large_ex_GSIB = df_rmbs[df_rmbs['rssd9001'].isin(large_ex_GSIB)]\n",
    "df_RMBS_small = df_rmbs[df_rmbs['rssd9001'].isin(small)]\n",
    "len(df_RMBS_GSIB), len(df_RMBS_large_ex_GSIB), len(df_RMBS_small)"
   ]
  },
  {
   "cell_type": "code",
   "execution_count": 334,
   "metadata": {},
   "outputs": [
    {
     "data": {
      "text/plain": [
       "(17, 831, 4064)"
      ]
     },
     "execution_count": 334,
     "metadata": {},
     "output_type": "execute_result"
    }
   ],
   "source": [
    "df_loans_GSIB = df_loans[df_loans['rssd9001'].isin(GSIB)]\n",
    "df_loans_large_ex_GSIB = df_loans[df_loans['rssd9001'].isin(large_ex_GSIB)]\n",
    "df_loans_small = df_loans[df_loans['rssd9001'].isin(small)]\n",
    "len(df_loans_GSIB), len(df_loans_large_ex_GSIB), len(df_loans_small)"
   ]
  },
  {
   "cell_type": "code",
   "execution_count": 336,
   "metadata": {},
   "outputs": [
    {
     "data": {
      "text/plain": [
       "(17, 831, 4064)"
      ]
     },
     "execution_count": 336,
     "metadata": {},
     "output_type": "execute_result"
    }
   ],
   "source": [
    "df_treasuries_GSIB = df_treasuries[df_treasuries['rssd9001'].isin(GSIB)]\n",
    "df_treasuries_large_ex_GSIB = df_treasuries[df_treasuries['rssd9001'].isin(large_ex_GSIB)]\n",
    "df_treasuries_small = df_treasuries[df_treasuries['rssd9001'].isin(small)]\n",
    "len(df_treasuries_GSIB), len(df_treasuries_large_ex_GSIB), len(df_treasuries_small)"
   ]
  },
  {
   "cell_type": "code",
   "execution_count": 338,
   "metadata": {},
   "outputs": [
    {
     "data": {
      "text/plain": [
       "(17, 831, 4064)"
      ]
     },
     "execution_count": 338,
     "metadata": {},
     "output_type": "execute_result"
    }
   ],
   "source": [
    "df_other_loans_GSIB = df_other_loans[df_other_loans['rssd9001'].isin(GSIB)]\n",
    "df_other_loans_large_ex_GSIB = df_other_loans[df_other_loans['rssd9001'].isin(large_ex_GSIB)]\n",
    "df_other_loans_small = df_other_loans[df_other_loans['rssd9001'].isin(small)]\n",
    "len(df_other_loans_GSIB), len(df_other_loans_large_ex_GSIB), len(df_other_loans_small)"
   ]
  },
  {
   "cell_type": "code",
   "execution_count": 343,
   "metadata": {},
   "outputs": [
    {
     "data": {
      "text/plain": [
       "(17, 712, 3976)"
      ]
     },
     "execution_count": 343,
     "metadata": {},
     "output_type": "execute_result"
    }
   ],
   "source": [
    "uninsured_deposit_GSIB = uninsured_deposit[uninsured_deposit['rssd9001'].isin(GSIB)]\n",
    "uninsured_deposit_large_ex_GSIB = uninsured_deposit[uninsured_deposit['rssd9001'].isin(large_ex_GSIB)]\n",
    "uninsured_deposit_small = uninsured_deposit[uninsured_deposit['rssd9001'].isin(small)]\n",
    "len(uninsured_deposit_GSIB), len(uninsured_deposit_large_ex_GSIB), len(uninsured_deposit_small)"
   ]
  },
  {
   "cell_type": "code",
   "execution_count": 344,
   "metadata": {},
   "outputs": [],
   "source": [
    "bank_losses = helper_functions.calculate_losses(\n",
    "    treasury_prices, df_rmbs, df_loans, df_treasuries, df_other_loans, df_asset, rmbs_multiplier\n",
    ")"
   ]
  },
  {
   "cell_type": "code",
   "execution_count": 345,
   "metadata": {},
   "outputs": [],
   "source": [
    "bank_losses_gsib = helper_functions.calculate_losses(\n",
    "    treasury_prices, df_RMBS_GSIB, df_loans_GSIB, df_treasuries_GSIB, df_other_loans_GSIB, df_asset_GSIB, rmbs_multiplier \n",
    ")"
   ]
  },
  {
   "cell_type": "code",
   "execution_count": 346,
   "metadata": {},
   "outputs": [],
   "source": [
    "bank_losses_large = helper_functions.calculate_losses(\n",
    "    treasury_prices, df_RMBS_large_ex_GSIB, df_loans_large_ex_GSIB, df_treasuries_large_ex_GSIB, df_other_loans_large_ex_GSIB, df_asset_large_ex_GSIB, rmbs_multiplier\n",
    ")"
   ]
  },
  {
   "cell_type": "code",
   "execution_count": 347,
   "metadata": {},
   "outputs": [],
   "source": [
    "bank_losses_small = helper_functions.calculate_losses(\n",
    "    treasury_prices, df_RMBS_small, df_loans_small, df_treasuries_small, df_other_loans_small, df_asset_large_ex_GSIB, rmbs_multiplier\n",
    ")"
   ]
  },
  {
   "cell_type": "code",
   "execution_count": 348,
   "metadata": {},
   "outputs": [],
   "source": [
    "uninsured_deposit_mm_asset_small = helper_functions.calculate_uninsured_deposit_mm_asset(uninsured_deposit_small, bank_losses_small)\n",
    "uninsured_deposit_mm_asset_large_ex_GSIB = helper_functions.calculate_uninsured_deposit_mm_asset(uninsured_deposit_large_ex_GSIB, bank_losses_large)\n",
    "uninsured_deposit_mm_asset_GSIB = helper_functions.calculate_uninsured_deposit_mm_asset(uninsured_deposit_GSIB, bank_losses_gsib)    "
   ]
  },
  {
   "cell_type": "code",
   "execution_count": 349,
   "metadata": {},
   "outputs": [],
   "source": [
    "importlib.reload(helper_functions)\n",
    "final_stats = helper_functions.final_statistic_table(bank_losses, un_mm_ratio, None)\n",
    "final_stats_small = helper_functions.final_statistic_table(bank_losses_small, uninsured_deposit_mm_asset_small, None, index_name = 'Small Banks')\n",
    "final_stats_large_ex_GSIB = helper_functions.final_statistic_table(bank_losses_large, uninsured_deposit_mm_asset_large_ex_GSIB, None, index_name = 'Large Ex GSIB Banks')\n",
    "final_stats_GSIB = helper_functions.final_statistic_table(bank_losses_gsib, uninsured_deposit_mm_asset_GSIB, None, index_name = 'GSIB Banks')"
   ]
  },
  {
   "cell_type": "code",
   "execution_count": 350,
   "metadata": {},
   "outputs": [
    {
     "data": {
      "text/html": [
       "<div>\n",
       "<style scoped>\n",
       "    .dataframe tbody tr th:only-of-type {\n",
       "        vertical-align: middle;\n",
       "    }\n",
       "\n",
       "    .dataframe tbody tr th {\n",
       "        vertical-align: top;\n",
       "    }\n",
       "\n",
       "    .dataframe thead th {\n",
       "        text-align: right;\n",
       "    }\n",
       "</style>\n",
       "<table border=\"1\" class=\"dataframe\">\n",
       "  <thead>\n",
       "    <tr style=\"text-align: right;\">\n",
       "      <th></th>\n",
       "      <th>All Banks</th>\n",
       "      <th>Small Banks</th>\n",
       "      <th>Large Ex GSIB Banks</th>\n",
       "      <th>GSIB Banks</th>\n",
       "    </tr>\n",
       "  </thead>\n",
       "  <tbody>\n",
       "    <tr>\n",
       "      <th>Aggregate Loss</th>\n",
       "      <td>1.6T</td>\n",
       "      <td>-0.0T</td>\n",
       "      <td>0.7T</td>\n",
       "      <td>0.7T</td>\n",
       "    </tr>\n",
       "    <tr>\n",
       "      <th>Bank Level Loss</th>\n",
       "      <td>15.0M</td>\n",
       "      <td>-0.0M</td>\n",
       "      <td>151.5M</td>\n",
       "      <td>6905.9M</td>\n",
       "    </tr>\n",
       "    <tr>\n",
       "      <th>Bank Level Loss Std</th>\n",
       "      <td>5.57B</td>\n",
       "      <td>0.0B</td>\n",
       "      <td>3.92B</td>\n",
       "      <td>81.91B</td>\n",
       "    </tr>\n",
       "    <tr>\n",
       "      <th>Share RMBS</th>\n",
       "      <td>942.8</td>\n",
       "      <td>0.0</td>\n",
       "      <td>1257.1</td>\n",
       "      <td>3450.2</td>\n",
       "    </tr>\n",
       "    <tr>\n",
       "      <th>Share RMBS Std</th>\n",
       "      <td>8387.0</td>\n",
       "      <td>0.0</td>\n",
       "      <td>5012.2</td>\n",
       "      <td>3853.6</td>\n",
       "    </tr>\n",
       "    <tr>\n",
       "      <th>Share Treasury and Other</th>\n",
       "      <td>1000.8</td>\n",
       "      <td>0.0</td>\n",
       "      <td>508.0</td>\n",
       "      <td>757.0</td>\n",
       "    </tr>\n",
       "    <tr>\n",
       "      <th>Share Treasury and Other Std</th>\n",
       "      <td>10500.0</td>\n",
       "      <td>0.0</td>\n",
       "      <td>2486.2</td>\n",
       "      <td>818.8</td>\n",
       "    </tr>\n",
       "    <tr>\n",
       "      <th>Share Residential Mortgage</th>\n",
       "      <td>2095.0</td>\n",
       "      <td>0.0</td>\n",
       "      <td>2221.3</td>\n",
       "      <td>2003.3</td>\n",
       "    </tr>\n",
       "    <tr>\n",
       "      <th>Share Residential Mortgage Std</th>\n",
       "      <td>4597.4</td>\n",
       "      <td>0.0</td>\n",
       "      <td>3376.7</td>\n",
       "      <td>2925.4</td>\n",
       "    </tr>\n",
       "    <tr>\n",
       "      <th>Share Other Loan</th>\n",
       "      <td>3352.3</td>\n",
       "      <td>0.0</td>\n",
       "      <td>3161.8</td>\n",
       "      <td>1795.5</td>\n",
       "    </tr>\n",
       "    <tr>\n",
       "      <th>Share Other Loan Std</th>\n",
       "      <td>15357.0</td>\n",
       "      <td>0.0</td>\n",
       "      <td>6466.5</td>\n",
       "      <td>4619.0</td>\n",
       "    </tr>\n",
       "    <tr>\n",
       "      <th>Loss/Asset</th>\n",
       "      <td>5.0</td>\n",
       "      <td>0.0</td>\n",
       "      <td>5.0</td>\n",
       "      <td>3.5</td>\n",
       "    </tr>\n",
       "    <tr>\n",
       "      <th>Loss/Asset Std</th>\n",
       "      <td>5.7</td>\n",
       "      <td>0.0</td>\n",
       "      <td>5.5</td>\n",
       "      <td>3.6</td>\n",
       "    </tr>\n",
       "    <tr>\n",
       "      <th>Uninsured Deposit/MM Asset</th>\n",
       "      <td>0.0</td>\n",
       "      <td>0.0</td>\n",
       "      <td>29.2</td>\n",
       "      <td>38.7</td>\n",
       "    </tr>\n",
       "    <tr>\n",
       "      <th>Uninsured Deposit/MM Asset Std</th>\n",
       "      <td>0.0</td>\n",
       "      <td>0.0</td>\n",
       "      <td>19.0</td>\n",
       "      <td>16.4</td>\n",
       "    </tr>\n",
       "    <tr>\n",
       "      <th>Number of Banks</th>\n",
       "      <td>4913</td>\n",
       "      <td>831</td>\n",
       "      <td>831</td>\n",
       "      <td>17</td>\n",
       "    </tr>\n",
       "  </tbody>\n",
       "</table>\n",
       "</div>"
      ],
      "text/plain": [
       "                               All Banks Small Banks Large Ex GSIB Banks  \\\n",
       "Aggregate Loss                      1.6T       -0.0T                0.7T   \n",
       "Bank Level Loss                    15.0M       -0.0M              151.5M   \n",
       "Bank Level Loss Std                5.57B        0.0B               3.92B   \n",
       "Share RMBS                         942.8         0.0              1257.1   \n",
       "Share RMBS Std                    8387.0         0.0              5012.2   \n",
       "Share Treasury and Other          1000.8         0.0               508.0   \n",
       "Share Treasury and Other Std     10500.0         0.0              2486.2   \n",
       "Share Residential Mortgage        2095.0         0.0              2221.3   \n",
       "Share Residential Mortgage Std    4597.4         0.0              3376.7   \n",
       "Share Other Loan                  3352.3         0.0              3161.8   \n",
       "Share Other Loan Std             15357.0         0.0              6466.5   \n",
       "Loss/Asset                           5.0         0.0                 5.0   \n",
       "Loss/Asset Std                       5.7         0.0                 5.5   \n",
       "Uninsured Deposit/MM Asset           0.0         0.0                29.2   \n",
       "Uninsured Deposit/MM Asset Std       0.0         0.0                19.0   \n",
       "Number of Banks                     4913         831                 831   \n",
       "\n",
       "                               GSIB Banks  \n",
       "Aggregate Loss                       0.7T  \n",
       "Bank Level Loss                   6905.9M  \n",
       "Bank Level Loss Std                81.91B  \n",
       "Share RMBS                         3450.2  \n",
       "Share RMBS Std                     3853.6  \n",
       "Share Treasury and Other            757.0  \n",
       "Share Treasury and Other Std        818.8  \n",
       "Share Residential Mortgage         2003.3  \n",
       "Share Residential Mortgage Std     2925.4  \n",
       "Share Other Loan                   1795.5  \n",
       "Share Other Loan Std               4619.0  \n",
       "Loss/Asset                            3.5  \n",
       "Loss/Asset Std                        3.6  \n",
       "Uninsured Deposit/MM Asset           38.7  \n",
       "Uninsured Deposit/MM Asset Std       16.4  \n",
       "Number of Banks                        17  "
      ]
     },
     "execution_count": 350,
     "metadata": {},
     "output_type": "execute_result"
    }
   ],
   "source": [
    "table_1 = pd.concat([final_stats, final_stats_small, final_stats_large_ex_GSIB, final_stats_GSIB], axis=1)\n",
    "table_1"
   ]
  },
  {
   "cell_type": "code",
   "execution_count": null,
   "metadata": {},
   "outputs": [],
   "source": []
  },
  {
   "cell_type": "code",
   "execution_count": null,
   "metadata": {},
   "outputs": [],
   "source": []
  },
  {
   "cell_type": "code",
   "execution_count": 255,
   "metadata": {},
   "outputs": [],
   "source": [
    "importlib.reload(data_preprocessing)\n",
    "df_rmbs_gsib, df_rmbs_large, df_rmbs_small = data_preprocessing.get_partitioned_data(df_rmbs, GSIB, asset_large_ex_GSIB, asset_small)\n",
    "\n",
    "df_treasuries_gsib, df_treasuries_large, df_treasuries_small = data_preprocessing.get_partitioned_data(df_treasuries, GSIB, asset_large_ex_GSIB, asset_small)\n",
    "\n",
    "df_loans_gsib, df_loans_large, df_loans_small = data_preprocessing.get_partitioned_data(df_loans, GSIB, asset_large_ex_GSIB, asset_small)\n",
    "\n",
    "df_other_loans_gsib, df_other_loans_large, df_other_loans_small = data_preprocessing.get_partitioned_data(df_other_loans, GSIB, asset_large_ex_GSIB, asset_small)\n",
    "\n",
    "df_insured_gsib, df_insured_large, df_insured_small = data_preprocessing.get_partitioned_data(df_insured, GSIB, asset_large_ex_GSIB, asset_small)\n",
    "\n",
    "df_uninsured_gsib, df_uninsured_large, df_uninsured_small = data_preprocessing.get_partitioned_data(df_uninsured, GSIB, asset_large_ex_GSIB, asset_small)"
   ]
  },
  {
   "cell_type": "code",
   "execution_count": 256,
   "metadata": {},
   "outputs": [],
   "source": [
    "# Aggregate the assets for each bank\n",
    "aggregated_assets = {}\n",
    "for name, df in zip(['RMBS', 'Loans', 'Treasury', 'OtherLoan'], \n",
    "                    [df_rmbs, df_loans, df_treasuries, df_other_loans]):\n",
    "    # Ensure columns for aggregation are present\n",
    "    columns_to_aggregate = [col for col in list(bucket_mapping.keys()) if col in df.columns]\n",
    "    aggregated_assets[name] = df.groupby(['rssd9001', 'date'])[columns_to_aggregate].sum().reset_index()\n",
    "\n",
    "# Initialize DataFrame to store results\n",
    "bank_losses_assets = pd.DataFrame(columns=[\n",
    "    'date', 'bank_ID', 'RMBs_loss', 'treasury_loss', 'loans_loss', 'other_loan_loss', \n",
    "    'total_loss', 'Share RMBs', 'Share Treasury and Other', \n",
    "    'Share Residential Mortgage', 'Share Other Loan', 'RMBs_asset', 'treasury_asset', \n",
    "    'residential_mortgage_asset', 'other_loan_asset', 'core_asset', 'gross_asset', 'loss/core_asset', 'loss/gross_asset',\n",
    "])"
   ]
  },
  {
   "cell_type": "code",
   "execution_count": 257,
   "metadata": {},
   "outputs": [
    {
     "data": {
      "text/html": [
       "<div>\n",
       "<style scoped>\n",
       "    .dataframe tbody tr th:only-of-type {\n",
       "        vertical-align: middle;\n",
       "    }\n",
       "\n",
       "    .dataframe tbody tr th {\n",
       "        vertical-align: top;\n",
       "    }\n",
       "\n",
       "    .dataframe thead th {\n",
       "        text-align: right;\n",
       "    }\n",
       "</style>\n",
       "<table border=\"1\" class=\"dataframe\">\n",
       "  <thead>\n",
       "    <tr style=\"text-align: right;\">\n",
       "      <th></th>\n",
       "      <th>rssd9001</th>\n",
       "      <th>date</th>\n",
       "      <th>&lt;3m</th>\n",
       "      <th>3m-1y</th>\n",
       "      <th>1y-3y</th>\n",
       "      <th>3y-5y</th>\n",
       "      <th>5y-15y</th>\n",
       "      <th>&gt;15y</th>\n",
       "    </tr>\n",
       "  </thead>\n",
       "  <tbody>\n",
       "    <tr>\n",
       "      <th>0</th>\n",
       "      <td>1000052</td>\n",
       "      <td>2022-03-31</td>\n",
       "      <td>3534.0</td>\n",
       "      <td>6017.0</td>\n",
       "      <td>10089.0</td>\n",
       "      <td>4826.0</td>\n",
       "      <td>3743.0</td>\n",
       "      <td>4574.0</td>\n",
       "    </tr>\n",
       "    <tr>\n",
       "      <th>1</th>\n",
       "      <td>1000276</td>\n",
       "      <td>2022-03-31</td>\n",
       "      <td>637.0</td>\n",
       "      <td>5082.0</td>\n",
       "      <td>13259.0</td>\n",
       "      <td>20434.0</td>\n",
       "      <td>47627.0</td>\n",
       "      <td>56174.0</td>\n",
       "    </tr>\n",
       "    <tr>\n",
       "      <th>2</th>\n",
       "      <td>1000641</td>\n",
       "      <td>2022-03-31</td>\n",
       "      <td>995.0</td>\n",
       "      <td>1154.0</td>\n",
       "      <td>1331.0</td>\n",
       "      <td>1610.0</td>\n",
       "      <td>28272.0</td>\n",
       "      <td>75531.0</td>\n",
       "    </tr>\n",
       "    <tr>\n",
       "      <th>3</th>\n",
       "      <td>1000856</td>\n",
       "      <td>2022-03-31</td>\n",
       "      <td>422.0</td>\n",
       "      <td>305.0</td>\n",
       "      <td>2173.0</td>\n",
       "      <td>3575.0</td>\n",
       "      <td>573.0</td>\n",
       "      <td>0.0</td>\n",
       "    </tr>\n",
       "    <tr>\n",
       "      <th>4</th>\n",
       "      <td>1000959</td>\n",
       "      <td>2022-03-31</td>\n",
       "      <td>587.0</td>\n",
       "      <td>3327.0</td>\n",
       "      <td>6898.0</td>\n",
       "      <td>7978.0</td>\n",
       "      <td>924.0</td>\n",
       "      <td>0.0</td>\n",
       "    </tr>\n",
       "    <tr>\n",
       "      <th>...</th>\n",
       "      <td>...</td>\n",
       "      <td>...</td>\n",
       "      <td>...</td>\n",
       "      <td>...</td>\n",
       "      <td>...</td>\n",
       "      <td>...</td>\n",
       "      <td>...</td>\n",
       "      <td>...</td>\n",
       "    </tr>\n",
       "    <tr>\n",
       "      <th>4908</th>\n",
       "      <td>998648</td>\n",
       "      <td>2022-03-31</td>\n",
       "      <td>1229.0</td>\n",
       "      <td>7673.0</td>\n",
       "      <td>8812.0</td>\n",
       "      <td>1714.0</td>\n",
       "      <td>725.0</td>\n",
       "      <td>1376.0</td>\n",
       "    </tr>\n",
       "    <tr>\n",
       "      <th>4909</th>\n",
       "      <td>998657</td>\n",
       "      <td>2022-03-31</td>\n",
       "      <td>4955.0</td>\n",
       "      <td>1139.0</td>\n",
       "      <td>4603.0</td>\n",
       "      <td>3143.0</td>\n",
       "      <td>1197.0</td>\n",
       "      <td>1987.0</td>\n",
       "    </tr>\n",
       "    <tr>\n",
       "      <th>4910</th>\n",
       "      <td>998844</td>\n",
       "      <td>2022-03-31</td>\n",
       "      <td>1580.0</td>\n",
       "      <td>2582.0</td>\n",
       "      <td>4395.0</td>\n",
       "      <td>8193.0</td>\n",
       "      <td>5798.0</td>\n",
       "      <td>6788.0</td>\n",
       "    </tr>\n",
       "    <tr>\n",
       "      <th>4911</th>\n",
       "      <td>999355</td>\n",
       "      <td>2022-03-31</td>\n",
       "      <td>0.0</td>\n",
       "      <td>36.0</td>\n",
       "      <td>71.0</td>\n",
       "      <td>0.0</td>\n",
       "      <td>0.0</td>\n",
       "      <td>0.0</td>\n",
       "    </tr>\n",
       "    <tr>\n",
       "      <th>4912</th>\n",
       "      <td>999935</td>\n",
       "      <td>2022-03-31</td>\n",
       "      <td>0.0</td>\n",
       "      <td>1636.0</td>\n",
       "      <td>2941.0</td>\n",
       "      <td>1735.0</td>\n",
       "      <td>22252.0</td>\n",
       "      <td>100473.0</td>\n",
       "    </tr>\n",
       "  </tbody>\n",
       "</table>\n",
       "<p>4913 rows × 8 columns</p>\n",
       "</div>"
      ],
      "text/plain": [
       "     rssd9001       date     <3m   3m-1y    1y-3y    3y-5y   5y-15y      >15y\n",
       "0     1000052 2022-03-31  3534.0  6017.0  10089.0   4826.0   3743.0    4574.0\n",
       "1     1000276 2022-03-31   637.0  5082.0  13259.0  20434.0  47627.0   56174.0\n",
       "2     1000641 2022-03-31   995.0  1154.0   1331.0   1610.0  28272.0   75531.0\n",
       "3     1000856 2022-03-31   422.0   305.0   2173.0   3575.0    573.0       0.0\n",
       "4     1000959 2022-03-31   587.0  3327.0   6898.0   7978.0    924.0       0.0\n",
       "...       ...        ...     ...     ...      ...      ...      ...       ...\n",
       "4908   998648 2022-03-31  1229.0  7673.0   8812.0   1714.0    725.0    1376.0\n",
       "4909   998657 2022-03-31  4955.0  1139.0   4603.0   3143.0   1197.0    1987.0\n",
       "4910   998844 2022-03-31  1580.0  2582.0   4395.0   8193.0   5798.0    6788.0\n",
       "4911   999355 2022-03-31     0.0    36.0     71.0      0.0      0.0       0.0\n",
       "4912   999935 2022-03-31     0.0  1636.0   2941.0   1735.0  22252.0  100473.0\n",
       "\n",
       "[4913 rows x 8 columns]"
      ]
     },
     "execution_count": 257,
     "metadata": {},
     "output_type": "execute_result"
    }
   ],
   "source": [
    "aggregated_assets['Loans']"
   ]
  },
  {
   "cell_type": "code",
   "execution_count": 258,
   "metadata": {},
   "outputs": [],
   "source": [
    "def calculate_losses(df_rmbs, df_loans, df_treasuries, df_other_loans):\n",
    "    aggregated_assets = {}\n",
    "    for name, df in zip(['RMBS', 'Loans', 'Treasury', 'OtherLoan'], \n",
    "                        [df_rmbs, df_loans, df_treasuries, df_other_loans]):\n",
    "        # Ensure columns for aggregation are present\n",
    "        columns_to_aggregate = [col for col in list(bucket_mapping.keys()) if col in df.columns]\n",
    "        aggregated_assets[name] = df.groupby(['rssd9001', 'date'])[columns_to_aggregate].sum().reset_index()\n",
    "\n",
    "    # Initialize DataFrame to store results\n",
    "    bank_losses_assets = pd.DataFrame(columns=[\n",
    "        'date', 'bank_ID', 'RMBs_loss', 'treasury_loss', 'loans_loss', 'other_loan_loss', \n",
    "        'total_loss', 'Share RMBs', 'Share Treasury and Other', \n",
    "        'Share Residential Mortgage', 'Share Other Loan', 'RMBs_asset', 'treasury_asset', \n",
    "        'residential_mortgage_asset', 'other_loan_asset', 'core_asset', 'gross_asset', 'loss/core_asset', 'loss/gross_asset',\n",
    "    ])\n",
    "\n",
    "    # Iterate over each bank to calculate losses and assets\n",
    "    for _, df_row in df_asset.iterrows():\n",
    "        bank_id = df_row['rssd9001']\n",
    "        bank_date = df_row['date']\n",
    "        bank_total_asset = df_row['assets']\n",
    "        \n",
    "        #Initialize variables for loss and asset calculations\n",
    "        rmbs_loss = loans_loss = treasury_loss = other_loan_loss = total_loss = 0\n",
    "        rmbs_asset = treasury_asset = loan_asset = other_loan_asset = core_asset = 0\n",
    "        \n",
    "        #Calculating losses for RMBs\n",
    "        if 'RMBS' in aggregated_assets and not aggregated_assets['RMBS'].empty:\n",
    "            rmbs_row = aggregated_assets['RMBS'][(aggregated_assets['RMBS']['date'] == bank_date) & (aggregated_assets['RMBS']['rssd9001'] == bank_id)]\n",
    "            for bucket, treasury_bucket in bucket_mapping.items():\n",
    "                if bucket in rmbs_row.columns:\n",
    "                    asset_amount = rmbs_row.iloc[0][bucket] if not rmbs_row.empty else 0\n",
    "                    rmbs_loss += (asset_amount * rmbs_multiplier * price_change[treasury_bucket])\n",
    "                    rmbs_asset += asset_amount\n",
    "\n",
    "        #Calculating losses for loans\n",
    "        loans_row = aggregated_assets['Loans'][(aggregated_assets['Loans']['date'] == bank_date) &(aggregated_assets['Loans']['rssd9001'] == bank_id)]\n",
    "        if not loans_row.empty:\n",
    "            for bucket, treasury_bucket in bucket_mapping.items():\n",
    "                if bucket in loans_row.columns:\n",
    "                    asset_amount = loans_row.iloc[0][bucket]\n",
    "                    loans_loss += (asset_amount * rmbs_multiplier * price_change[treasury_bucket])\n",
    "                    loan_asset += asset_amount\n",
    "\n",
    "        #Calculating Treasuries\n",
    "        treasury_row = aggregated_assets['Treasury'][(aggregated_assets['Treasury']['date'] == bank_date) & (aggregated_assets['Treasury']['rssd9001'] == bank_id)]\n",
    "        if not treasury_row.empty:\n",
    "            for bucket, treasury_bucket in bucket_mapping.items():\n",
    "                if bucket in treasury_row.columns:\n",
    "                    asset_amount = treasury_row.iloc[0][bucket]\n",
    "                    treasury_loss += (asset_amount * price_change[treasury_bucket])\n",
    "                    treasury_asset += asset_amount\n",
    "        #Other loans\n",
    "        other_loan_row = aggregated_assets['OtherLoan'][(aggregated_assets['OtherLoan']['date'] == bank_date) & (aggregated_assets['OtherLoan']['rssd9001'] == bank_id)]\n",
    "        if not other_loan_row.empty:\n",
    "            for bucket, treasury_bucket in bucket_mapping.items():\n",
    "                if bucket in other_loan_row.columns:\n",
    "                    asset_amount = other_loan_row.iloc[0][bucket]\n",
    "                    other_loan_loss += (asset_amount * price_change[treasury_bucket])\n",
    "                    other_loan_asset += asset_amount\n",
    "\n",
    "            # Calculate total loss and core asset      \n",
    "        total_loss = rmbs_loss + treasury_loss + loans_loss + other_loan_loss\n",
    "        core_asset = rmbs_asset + treasury_asset + loan_asset + other_loan_asset\n",
    "\n",
    "        # Append the results to the DataFrame\n",
    "        bank_losses_assets.loc[len(bank_losses_assets)] = {\n",
    "            'date': bank_date,\n",
    "            'bank_ID': bank_id,\n",
    "            'RMBs_loss': rmbs_loss,\n",
    "            'treasury_loss': treasury_loss,\n",
    "            'loans_loss': loans_loss,\n",
    "            'other_loan_loss': other_loan_loss,\n",
    "            'total_loss': total_loss,\n",
    "            'Share RMBs': rmbs_loss / total_loss if total_loss else 0,\n",
    "            'Share Treasury and Other': treasury_loss / total_loss if total_loss else 0,\n",
    "            'Share Residential Mortgage': loans_loss / total_loss if total_loss else 0,\n",
    "            'Share Other Loan': other_loan_loss / total_loss if total_loss else 0,\n",
    "            'RMBs_asset': rmbs_asset,\n",
    "            'treasury_asset': treasury_asset,\n",
    "            'residential_mortgage_asset': loan_asset,\n",
    "            'other_loan_asset': other_loan_asset,\n",
    "            'core_asset': core_asset,\n",
    "            'gross_asset': bank_total_asset,\n",
    "            'loss/core_asset': -(total_loss / core_asset) if core_asset else 0,\n",
    "            'loss/gross_asset': -(total_loss / bank_total_asset) if bank_total_asset else 0,\n",
    "        }\n",
    "    return bank_losses_assets"
   ]
  },
  {
   "cell_type": "code",
   "execution_count": 259,
   "metadata": {},
   "outputs": [
    {
     "data": {
      "text/html": [
       "<div>\n",
       "<style scoped>\n",
       "    .dataframe tbody tr th:only-of-type {\n",
       "        vertical-align: middle;\n",
       "    }\n",
       "\n",
       "    .dataframe tbody tr th {\n",
       "        vertical-align: top;\n",
       "    }\n",
       "\n",
       "    .dataframe thead th {\n",
       "        text-align: right;\n",
       "    }\n",
       "</style>\n",
       "<table border=\"1\" class=\"dataframe\">\n",
       "  <thead>\n",
       "    <tr style=\"text-align: right;\">\n",
       "      <th></th>\n",
       "      <th>date</th>\n",
       "      <th>bank_ID</th>\n",
       "      <th>RMBs_loss</th>\n",
       "      <th>treasury_loss</th>\n",
       "      <th>loans_loss</th>\n",
       "      <th>other_loan_loss</th>\n",
       "      <th>total_loss</th>\n",
       "      <th>Share RMBs</th>\n",
       "      <th>Share Treasury and Other</th>\n",
       "      <th>Share Residential Mortgage</th>\n",
       "      <th>Share Other Loan</th>\n",
       "      <th>RMBs_asset</th>\n",
       "      <th>treasury_asset</th>\n",
       "      <th>residential_mortgage_asset</th>\n",
       "      <th>other_loan_asset</th>\n",
       "      <th>core_asset</th>\n",
       "      <th>gross_asset</th>\n",
       "      <th>loss/core_asset</th>\n",
       "      <th>loss/gross_asset</th>\n",
       "    </tr>\n",
       "  </thead>\n",
       "  <tbody>\n",
       "  </tbody>\n",
       "</table>\n",
       "</div>"
      ],
      "text/plain": [
       "Empty DataFrame\n",
       "Columns: [date, bank_ID, RMBs_loss, treasury_loss, loans_loss, other_loan_loss, total_loss, Share RMBs, Share Treasury and Other, Share Residential Mortgage, Share Other Loan, RMBs_asset, treasury_asset, residential_mortgage_asset, other_loan_asset, core_asset, gross_asset, loss/core_asset, loss/gross_asset]\n",
       "Index: []"
      ]
     },
     "execution_count": 259,
     "metadata": {},
     "output_type": "execute_result"
    }
   ],
   "source": [
    "bank_losses_assets.head()"
   ]
  },
  {
   "cell_type": "code",
   "execution_count": 260,
   "metadata": {},
   "outputs": [],
   "source": [
    "bank_count = len(bank_losses_assets.index)\n",
    "def get_final_stats(bank_losses_assets):\n",
    "    bank_count = len(bank_losses_assets.index)\n",
    "    final_stats = pd.DataFrame({\n",
    "        'Aggregate Loss': [f\"{-round(bank_losses_assets['total_loss'].sum() / 1e9, 1)}T\"],  # Convert to trillions\n",
    "        'Bank Level Loss': [f\"{-round(bank_losses_assets['total_loss'].median() / 1e3, 1)}M\"],  # Convert to millions\n",
    "        'Bank Level Loss Std': [f\"{round(bank_losses_assets['total_loss'].std() / 1e6, 2)}B\"],  # Std deviation for Bank Level Loss\n",
    "        'Share RMBS': [round(bank_losses_assets['Share RMBs'].median() * 100, 1)],  # Median percentage\n",
    "        'Share RMBS Std': [round(bank_losses_assets['Share RMBs'].std() * 100, 1)],  # Std deviation for Share RMBS\n",
    "        'Share Treasury and Other': [round(bank_losses_assets['Share Treasury and Other'].median() * 100, 1)],  # Median percentage\n",
    "        'Share Treasury and Other Std': [round(bank_losses_assets['Share Treasury and Other'].std() * 100, 1)],  # Std deviation\n",
    "        'Share Residential Mortgage': [round(bank_losses_assets['Share Residential Mortgage'].median() * 100, 1)],  # Median percentage\n",
    "        'Share Residential Mortgage Std': [round(bank_losses_assets['Share Residential Mortgage'].std() * 100, 1)],  # Std deviation\n",
    "        'Share Other Loan': [round(bank_losses_assets['Share Other Loan'].median() * 100, 1)],  # Median percentage\n",
    "        'Share Other Loan Std': [round(bank_losses_assets['Share Other Loan'].std() * 100, 1)],  # Std deviation\n",
    "        'Loss/Asset': [round(bank_losses_assets['loss/gross_asset'].median() * 100, 1)],  # Median percentage\n",
    "        'Loss/Asset Std': [round(bank_losses_assets['loss/gross_asset'].std() * 100, 1)],  # Std deviation\n",
    "        'Number of Banks': [len(bank_losses_assets.index.unique())]  # Count of unique banks\n",
    "    })\n",
    "    return final_stats"
   ]
  },
  {
   "cell_type": "code",
   "execution_count": 261,
   "metadata": {},
   "outputs": [
    {
     "data": {
      "text/html": [
       "<div>\n",
       "<style scoped>\n",
       "    .dataframe tbody tr th:only-of-type {\n",
       "        vertical-align: middle;\n",
       "    }\n",
       "\n",
       "    .dataframe tbody tr th {\n",
       "        vertical-align: top;\n",
       "    }\n",
       "\n",
       "    .dataframe thead th {\n",
       "        text-align: right;\n",
       "    }\n",
       "</style>\n",
       "<table border=\"1\" class=\"dataframe\">\n",
       "  <thead>\n",
       "    <tr style=\"text-align: right;\">\n",
       "      <th></th>\n",
       "      <th>0</th>\n",
       "    </tr>\n",
       "  </thead>\n",
       "  <tbody>\n",
       "    <tr>\n",
       "      <th>Aggregate Loss</th>\n",
       "      <td>0.7T</td>\n",
       "    </tr>\n",
       "    <tr>\n",
       "      <th>Bank Level Loss</th>\n",
       "      <td>-0.0M</td>\n",
       "    </tr>\n",
       "    <tr>\n",
       "      <th>Bank Level Loss Std</th>\n",
       "      <td>5.33B</td>\n",
       "    </tr>\n",
       "    <tr>\n",
       "      <th>Share RMBS</th>\n",
       "      <td>0.0</td>\n",
       "    </tr>\n",
       "    <tr>\n",
       "      <th>Share RMBS Std</th>\n",
       "      <td>3.1</td>\n",
       "    </tr>\n",
       "    <tr>\n",
       "      <th>Share Treasury and Other</th>\n",
       "      <td>0.0</td>\n",
       "    </tr>\n",
       "    <tr>\n",
       "      <th>Share Treasury and Other Std</th>\n",
       "      <td>0.7</td>\n",
       "    </tr>\n",
       "    <tr>\n",
       "      <th>Share Residential Mortgage</th>\n",
       "      <td>0.0</td>\n",
       "    </tr>\n",
       "    <tr>\n",
       "      <th>Share Residential Mortgage Std</th>\n",
       "      <td>2.2</td>\n",
       "    </tr>\n",
       "    <tr>\n",
       "      <th>Share Other Loan</th>\n",
       "      <td>0.0</td>\n",
       "    </tr>\n",
       "    <tr>\n",
       "      <th>Share Other Loan Std</th>\n",
       "      <td>3.2</td>\n",
       "    </tr>\n",
       "    <tr>\n",
       "      <th>Loss/Asset</th>\n",
       "      <td>0.0</td>\n",
       "    </tr>\n",
       "    <tr>\n",
       "      <th>Loss/Asset Std</th>\n",
       "      <td>0.3</td>\n",
       "    </tr>\n",
       "    <tr>\n",
       "      <th>Number of Banks</th>\n",
       "      <td>4913</td>\n",
       "    </tr>\n",
       "  </tbody>\n",
       "</table>\n",
       "</div>"
      ],
      "text/plain": [
       "                                    0\n",
       "Aggregate Loss                   0.7T\n",
       "Bank Level Loss                 -0.0M\n",
       "Bank Level Loss Std             5.33B\n",
       "Share RMBS                        0.0\n",
       "Share RMBS Std                    3.1\n",
       "Share Treasury and Other          0.0\n",
       "Share Treasury and Other Std      0.7\n",
       "Share Residential Mortgage        0.0\n",
       "Share Residential Mortgage Std    2.2\n",
       "Share Other Loan                  0.0\n",
       "Share Other Loan Std              3.2\n",
       "Loss/Asset                        0.0\n",
       "Loss/Asset Std                    0.3\n",
       "Number of Banks                  4913"
      ]
     },
     "execution_count": 261,
     "metadata": {},
     "output_type": "execute_result"
    }
   ],
   "source": [
    "bank_losses_assets_gsib = calculate_losses(df_loans=df_loans_gsib, df_rmbs=df_rmbs_gsib, df_treasuries=df_treasuries_gsib, df_other_loans=df_other_loans_gsib)\n",
    "\n",
    "\n",
    "bank_losses_assets_1 = bank_losses_assets_gsib\n",
    "bank_losses_assets_1['date'] = pd.to_datetime(bank_losses_assets_1['date'])\n",
    "bank_losses_assets_1 = bank_losses_assets_1[bank_losses_assets_1['date'] == pd.Timestamp('2022-03-31')]\n",
    "final_stats_1 = get_final_stats(bank_losses_assets_1)\n",
    "final_stats_1.T"
   ]
  },
  {
   "cell_type": "code",
   "execution_count": 262,
   "metadata": {},
   "outputs": [
    {
     "data": {
      "text/html": [
       "<div>\n",
       "<style scoped>\n",
       "    .dataframe tbody tr th:only-of-type {\n",
       "        vertical-align: middle;\n",
       "    }\n",
       "\n",
       "    .dataframe tbody tr th {\n",
       "        vertical-align: top;\n",
       "    }\n",
       "\n",
       "    .dataframe thead th {\n",
       "        text-align: right;\n",
       "    }\n",
       "</style>\n",
       "<table border=\"1\" class=\"dataframe\">\n",
       "  <thead>\n",
       "    <tr style=\"text-align: right;\">\n",
       "      <th></th>\n",
       "      <th>0</th>\n",
       "    </tr>\n",
       "  </thead>\n",
       "  <tbody>\n",
       "    <tr>\n",
       "      <th>Aggregate Loss</th>\n",
       "      <td>0.1T</td>\n",
       "    </tr>\n",
       "    <tr>\n",
       "      <th>Bank Level Loss</th>\n",
       "      <td>7.7M</td>\n",
       "    </tr>\n",
       "    <tr>\n",
       "      <th>Bank Level Loss Std</th>\n",
       "      <td>0.03B</td>\n",
       "    </tr>\n",
       "    <tr>\n",
       "      <th>Share RMBS</th>\n",
       "      <td>3.2</td>\n",
       "    </tr>\n",
       "    <tr>\n",
       "      <th>Share RMBS Std</th>\n",
       "      <td>81.6</td>\n",
       "    </tr>\n",
       "    <tr>\n",
       "      <th>Share Treasury and Other</th>\n",
       "      <td>6.8</td>\n",
       "    </tr>\n",
       "    <tr>\n",
       "      <th>Share Treasury and Other Std</th>\n",
       "      <td>104.7</td>\n",
       "    </tr>\n",
       "    <tr>\n",
       "      <th>Share Residential Mortgage</th>\n",
       "      <td>14.5</td>\n",
       "    </tr>\n",
       "    <tr>\n",
       "      <th>Share Residential Mortgage Std</th>\n",
       "      <td>44.7</td>\n",
       "    </tr>\n",
       "    <tr>\n",
       "      <th>Share Other Loan</th>\n",
       "      <td>28.9</td>\n",
       "    </tr>\n",
       "    <tr>\n",
       "      <th>Share Other Loan Std</th>\n",
       "      <td>151.8</td>\n",
       "    </tr>\n",
       "    <tr>\n",
       "      <th>Loss/Asset</th>\n",
       "      <td>3.8</td>\n",
       "    </tr>\n",
       "    <tr>\n",
       "      <th>Loss/Asset Std</th>\n",
       "      <td>5.8</td>\n",
       "    </tr>\n",
       "    <tr>\n",
       "      <th>Number of Banks</th>\n",
       "      <td>4913</td>\n",
       "    </tr>\n",
       "  </tbody>\n",
       "</table>\n",
       "</div>"
      ],
      "text/plain": [
       "                                    0\n",
       "Aggregate Loss                   0.1T\n",
       "Bank Level Loss                  7.7M\n",
       "Bank Level Loss Std             0.03B\n",
       "Share RMBS                        3.2\n",
       "Share RMBS Std                   81.6\n",
       "Share Treasury and Other          6.8\n",
       "Share Treasury and Other Std    104.7\n",
       "Share Residential Mortgage       14.5\n",
       "Share Residential Mortgage Std   44.7\n",
       "Share Other Loan                 28.9\n",
       "Share Other Loan Std            151.8\n",
       "Loss/Asset                        3.8\n",
       "Loss/Asset Std                    5.8\n",
       "Number of Banks                  4913"
      ]
     },
     "execution_count": 262,
     "metadata": {},
     "output_type": "execute_result"
    }
   ],
   "source": [
    "bank_losses_assets_small = calculate_losses(df_loans=df_loans_small, df_rmbs=df_rmbs_small, df_treasuries=df_treasuries_small, df_other_loans=df_other_loans_small)\n",
    "\n",
    "\n",
    "bank_losses_assets_1 = bank_losses_assets_small\n",
    "bank_losses_assets_1['date'] = pd.to_datetime(bank_losses_assets_1['date'])\n",
    "bank_losses_assets_1 = bank_losses_assets_1[bank_losses_assets_1['date'] == pd.Timestamp('2022-03-31')]\n",
    "final_stats_1 = get_final_stats(bank_losses_assets_1)\n",
    "final_stats_1.T"
   ]
  },
  {
   "cell_type": "code",
   "execution_count": 263,
   "metadata": {},
   "outputs": [
    {
     "data": {
      "text/html": [
       "<div>\n",
       "<style scoped>\n",
       "    .dataframe tbody tr th:only-of-type {\n",
       "        vertical-align: middle;\n",
       "    }\n",
       "\n",
       "    .dataframe tbody tr th {\n",
       "        vertical-align: top;\n",
       "    }\n",
       "\n",
       "    .dataframe thead th {\n",
       "        text-align: right;\n",
       "    }\n",
       "</style>\n",
       "<table border=\"1\" class=\"dataframe\">\n",
       "  <thead>\n",
       "    <tr style=\"text-align: right;\">\n",
       "      <th></th>\n",
       "      <th>0</th>\n",
       "    </tr>\n",
       "  </thead>\n",
       "  <tbody>\n",
       "    <tr>\n",
       "      <th>Aggregate Loss</th>\n",
       "      <td>0.7T</td>\n",
       "    </tr>\n",
       "    <tr>\n",
       "      <th>Bank Level Loss</th>\n",
       "      <td>-0.0M</td>\n",
       "    </tr>\n",
       "    <tr>\n",
       "      <th>Bank Level Loss Std</th>\n",
       "      <td>1.65B</td>\n",
       "    </tr>\n",
       "    <tr>\n",
       "      <th>Share RMBS</th>\n",
       "      <td>0.0</td>\n",
       "    </tr>\n",
       "    <tr>\n",
       "      <th>Share RMBS Std</th>\n",
       "      <td>22.0</td>\n",
       "    </tr>\n",
       "    <tr>\n",
       "      <th>Share Treasury and Other</th>\n",
       "      <td>0.0</td>\n",
       "    </tr>\n",
       "    <tr>\n",
       "      <th>Share Treasury and Other Std</th>\n",
       "      <td>10.9</td>\n",
       "    </tr>\n",
       "    <tr>\n",
       "      <th>Share Residential Mortgage</th>\n",
       "      <td>0.0</td>\n",
       "    </tr>\n",
       "    <tr>\n",
       "      <th>Share Residential Mortgage Std</th>\n",
       "      <td>16.5</td>\n",
       "    </tr>\n",
       "    <tr>\n",
       "      <th>Share Other Loan</th>\n",
       "      <td>0.0</td>\n",
       "    </tr>\n",
       "    <tr>\n",
       "      <th>Share Other Loan Std</th>\n",
       "      <td>28.9</td>\n",
       "    </tr>\n",
       "    <tr>\n",
       "      <th>Loss/Asset</th>\n",
       "      <td>0.0</td>\n",
       "    </tr>\n",
       "    <tr>\n",
       "      <th>Loss/Asset Std</th>\n",
       "      <td>3.2</td>\n",
       "    </tr>\n",
       "    <tr>\n",
       "      <th>Number of Banks</th>\n",
       "      <td>4913</td>\n",
       "    </tr>\n",
       "  </tbody>\n",
       "</table>\n",
       "</div>"
      ],
      "text/plain": [
       "                                    0\n",
       "Aggregate Loss                   0.7T\n",
       "Bank Level Loss                 -0.0M\n",
       "Bank Level Loss Std             1.65B\n",
       "Share RMBS                        0.0\n",
       "Share RMBS Std                   22.0\n",
       "Share Treasury and Other          0.0\n",
       "Share Treasury and Other Std     10.9\n",
       "Share Residential Mortgage        0.0\n",
       "Share Residential Mortgage Std   16.5\n",
       "Share Other Loan                  0.0\n",
       "Share Other Loan Std             28.9\n",
       "Loss/Asset                        0.0\n",
       "Loss/Asset Std                    3.2\n",
       "Number of Banks                  4913"
      ]
     },
     "execution_count": 263,
     "metadata": {},
     "output_type": "execute_result"
    }
   ],
   "source": [
    "bank_losses_assets_large = calculate_losses(df_loans=df_loans_large, df_rmbs=df_rmbs_large, df_treasuries=df_treasuries_large, df_other_loans=df_other_loans_large)\n",
    "\n",
    "\n",
    "bank_losses_assets_1 = bank_losses_assets_large\n",
    "bank_losses_assets_1['date'] = pd.to_datetime(bank_losses_assets_1['date'])\n",
    "bank_losses_assets_1 = bank_losses_assets_1[bank_losses_assets_1['date'] == pd.Timestamp('2022-03-31')]\n",
    "final_stats_1 = get_final_stats(bank_losses_assets_1)\n",
    "final_stats_1.T"
   ]
  },
  {
   "cell_type": "code",
   "execution_count": null,
   "metadata": {},
   "outputs": [],
   "source": []
  }
 ],
 "metadata": {
  "kernelspec": {
   "display_name": "svb-case-study",
   "language": "python",
   "name": "python3"
  },
  "language_info": {
   "codemirror_mode": {
    "name": "ipython",
    "version": 3
   },
   "file_extension": ".py",
   "mimetype": "text/x-python",
   "name": "python",
   "nbconvert_exporter": "python",
   "pygments_lexer": "ipython3",
   "version": "3.12.9"
  }
 },
 "nbformat": 4,
 "nbformat_minor": 2
}
