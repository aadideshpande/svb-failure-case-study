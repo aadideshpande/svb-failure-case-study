{
 "cells": [
  {
   "cell_type": "code",
   "execution_count": null,
   "metadata": {},
   "outputs": [],
   "source": [
    "import pandas as pd\n",
    "import numpy as np\n",
    "import matplotlib.pyplot as plt\n",
    "import warnings\n",
    "import wrds\n",
    "# import data_read\n",
    "import pull_WRDS_call_reports, pull_treasuries_data\n",
    "import pull_mbb_data\n",
    "import data_preprocessing, compute_treasury_changes\n",
    "# import calc_functions\n",
    "# import Calc_table_statistic\n",
    "import helper_functions\n",
    "\n",
    "warnings.filterwarnings(\"ignore\")"
   ]
  },
  {
   "cell_type": "code",
   "execution_count": null,
   "metadata": {},
   "outputs": [],
   "source": [
    "import importlib\n",
    "importlib.reload(pull_WRDS_call_reports)\n",
    "importlib.reload(data_preprocessing)"
   ]
  },
  {
   "cell_type": "markdown",
   "metadata": {},
   "source": [
    "### Pull and Preprocess WRDS Call Research Data"
   ]
  },
  {
   "cell_type": "code",
   "execution_count": null,
   "metadata": {},
   "outputs": [],
   "source": [
    "df = pull_WRDS_call_reports.load_wrds_call_research()"
   ]
  },
  {
   "cell_type": "code",
   "execution_count": null,
   "metadata": {},
   "outputs": [],
   "source": [
    "df.shape"
   ]
  },
  {
   "cell_type": "code",
   "execution_count": null,
   "metadata": {},
   "outputs": [],
   "source": [
    "import datetime\n",
    "start_date = datetime.date(2022, 3, 31)\n",
    "end_date = datetime.date.today()\n",
    "df_filtered = data_preprocessing.filter_data(df, start_date, end_date)"
   ]
  },
  {
   "cell_type": "code",
   "execution_count": null,
   "metadata": {},
   "outputs": [],
   "source": [
    "df_filtered.head()"
   ]
  },
  {
   "cell_type": "code",
   "execution_count": null,
   "metadata": {},
   "outputs": [],
   "source": [
    "df_filtered = df_filtered.sort_values(by=['date'])  # Ensure the data is sorted by date\n",
    "df_filtered = df_filtered.groupby('rssd9001').first().reset_index()"
   ]
  },
  {
   "cell_type": "code",
   "execution_count": null,
   "metadata": {},
   "outputs": [],
   "source": [
    "# df_filtered[df_filtered['rssd9001'] == '37'].head()"
   ]
  },
  {
   "cell_type": "code",
   "execution_count": null,
   "metadata": {},
   "outputs": [],
   "source": [
    "df_filtered.shape"
   ]
  },
  {
   "cell_type": "code",
   "execution_count": null,
   "metadata": {},
   "outputs": [],
   "source": [
    "len(df_filtered['rssd9001'].unique())"
   ]
  },
  {
   "cell_type": "code",
   "execution_count": null,
   "metadata": {},
   "outputs": [],
   "source": [
    "df_new = df_filtered[['rssd9001', 'date', 'assets', 'securitiesheldtomaturity',\n",
    "                      'securitiesavailableforsale', 'mbsassets', 'absassets', 'loans', 'totaldep', 'alldepuninsured', 'treasurysec', 'timedepuninsured', 'domdepuninsured',\n",
    "                      'securitiesrmbs_less_3m', 'securitiesrmbs_3m_1y', 'securitiesrmbs_1y_3y', 'securitiesrmbs_3y_5y', 'securitiesrmbs_5y_15y', 'securitiesrmbs_over_15y',\n",
    "                      'resloans_less_3m', 'resloans_3m_1y', 'resloans_1y_3y', 'resloans_3y_5y', 'resloans_5y_15y', 'resloans_over_15y']]"
   ]
  },
  {
   "cell_type": "code",
   "execution_count": null,
   "metadata": {},
   "outputs": [],
   "source": [
    "df_new.shape"
   ]
  },
  {
   "cell_type": "markdown",
   "metadata": {},
   "source": [
    "### Load and Preprocess ETF MBS Data"
   ]
  },
  {
   "cell_type": "code",
   "execution_count": null,
   "metadata": {},
   "outputs": [],
   "source": [
    "etf_mbs = pull_mbb_data.load_from_manual_csv()"
   ]
  },
  {
   "cell_type": "code",
   "execution_count": null,
   "metadata": {},
   "outputs": [],
   "source": [
    "etf_mbs.head()"
   ]
  },
  {
   "cell_type": "code",
   "execution_count": null,
   "metadata": {},
   "outputs": [],
   "source": [
    "type(etf_mbs.iloc[0]['Date'])"
   ]
  },
  {
   "cell_type": "markdown",
   "metadata": {},
   "source": [
    "### Load and Preprocess Treasuries Data"
   ]
  },
  {
   "cell_type": "code",
   "execution_count": null,
   "metadata": {},
   "outputs": [],
   "source": [
    "treasuries_data = pull_treasuries_data.load_from_manual_excel()"
   ]
  },
  {
   "cell_type": "code",
   "execution_count": null,
   "metadata": {},
   "outputs": [],
   "source": [
    "treasuries_data.head()"
   ]
  },
  {
   "cell_type": "code",
   "execution_count": null,
   "metadata": {},
   "outputs": [],
   "source": [
    "treasuries_data = data_preprocessing.preprocess_treasuries_data(treasuries_data)"
   ]
  },
  {
   "cell_type": "code",
   "execution_count": null,
   "metadata": {},
   "outputs": [],
   "source": [
    "treasuries_data.head()"
   ]
  },
  {
   "cell_type": "code",
   "execution_count": null,
   "metadata": {},
   "outputs": [],
   "source": []
  },
  {
   "cell_type": "markdown",
   "metadata": {},
   "source": []
  },
  {
   "cell_type": "code",
   "execution_count": null,
   "metadata": {},
   "outputs": [],
   "source": [
    "df_new.head()"
   ]
  },
  {
   "cell_type": "code",
   "execution_count": null,
   "metadata": {},
   "outputs": [],
   "source": [
    "df_sorted = df_new.sort_values(by=['date'])\n",
    "df_final = df_sorted.groupby('rssd9001').first().reset_index()"
   ]
  },
  {
   "cell_type": "markdown",
   "metadata": {},
   "source": [
    "### Calculate MTM Losses"
   ]
  },
  {
   "cell_type": "code",
   "execution_count": null,
   "metadata": {},
   "outputs": [],
   "source": [
    "etf_mbs_change = helper_functions.get_etf_mbs_change(etf_mbs)\n",
    "treasury_change = helper_functions.get_treasury_change(treasuries_data)"
   ]
  },
  {
   "cell_type": "code",
   "execution_count": null,
   "metadata": {},
   "outputs": [],
   "source": [
    "df_final['mtm_loss_mbs'] = df_final['mbsassets'] * etf_mbs_change\n",
    "df_final['mtm_loss_treasury'] = df_final['treasurysec'] * treasury_change\n",
    "df_final['mtm_loss_loans'] = df_final['loans'] * treasury_change\n",
    "df_final['total_mtm_loss'] = df_final['mtm_loss_mbs'] + df_final['mtm_loss_treasury'] + df_final['mtm_loss_loans']"
   ]
  },
  {
   "cell_type": "code",
   "execution_count": null,
   "metadata": {},
   "outputs": [],
   "source": [
    "aggregate_loss = df_final['total_mtm_loss'].sum()"
   ]
  },
  {
   "cell_type": "code",
   "execution_count": null,
   "metadata": {},
   "outputs": [],
   "source": [
    "df_final['share_rmbs'] = df_final['mtm_loss_mbs'] / df_final['total_mtm_loss']\n",
    "df_final['share_treasury_other'] = df_final['mtm_loss_treasury'] / df_final['total_mtm_loss']\n",
    "df_final['share_residential_mortgage'] = df_final['mtm_loss_loans'] / df_final['total_mtm_loss']"
   ]
  },
  {
   "cell_type": "code",
   "execution_count": null,
   "metadata": {},
   "outputs": [],
   "source": [
    "df_final['loss_to_asset'] = df_final['total_mtm_loss'] / df_final['assets']\n",
    "df_final['uninsured_deposit_mm_asset'] = df_final['alldepuninsured'] / (df_final['assets'] - df_final['total_mtm_loss'])"
   ]
  },
  {
   "cell_type": "markdown",
   "metadata": {},
   "source": [
    "### Assets"
   ]
  },
  {
   "cell_type": "code",
   "execution_count": null,
   "metadata": {},
   "outputs": [],
   "source": [
    "df_assets = df_new[['rssd9001', 'date', 'assets']]"
   ]
  },
  {
   "cell_type": "code",
   "execution_count": null,
   "metadata": {},
   "outputs": [],
   "source": [
    "df_asset = df_assets #total assets all banks\n",
    "\n",
    "#list of GSIB bank IDs\n",
    "GSIB = helper_functions.GSIB_bank_id()\n",
    "GSIB = [str(element) for element in GSIB]\n",
    "\n",
    "#total assets all GSIB banks\n",
    "df_asset_GSIB = df_asset[df_asset['rssd9001'].isin(GSIB)]\n",
    "\n",
    "#total assets large non-GSIB banks\n",
    "df_asset_large_ex_GSIB = df_asset[(~df_asset['rssd9001'].isin(GSIB)) & (df_asset['assets']>1384000)]\n",
    "\n",
    "#total assets small banks\n",
    "df_asset_small = df_asset[(~df_asset['rssd9001'].isin(GSIB)) & (df_asset['assets']<=1384000)] "
   ]
  },
  {
   "cell_type": "code",
   "execution_count": null,
   "metadata": {},
   "outputs": [],
   "source": [
    "df_asset[df['rssd9001'] == '30810'].head()"
   ]
  },
  {
   "cell_type": "code",
   "execution_count": null,
   "metadata": {},
   "outputs": [],
   "source": [
    "len(df_asset_large_ex_GSIB), len(df_asset_GSIB), len(df_asset_small), len(df_new)"
   ]
  },
  {
   "cell_type": "markdown",
   "metadata": {},
   "source": [
    "### Insured"
   ]
  },
  {
   "cell_type": "code",
   "execution_count": null,
   "metadata": {},
   "outputs": [],
   "source": [
    "df_insured = df_new[['rssd9001', 'date', 'alldepuninsured','timedepuninsured', 'domdepuninsured']]"
   ]
  },
  {
   "cell_type": "markdown",
   "metadata": {},
   "source": [
    "### RMBs"
   ]
  },
  {
   "cell_type": "code",
   "execution_count": null,
   "metadata": {},
   "outputs": [],
   "source": [
    "df_rmbs = df_final[['rssd9001', 'date', 'securitiesrmbs_less_3m', 'securitiesrmbs_3m_1y', 'securitiesrmbs_1y_3y', 'securitiesrmbs_3y_5y', 'securitiesrmbs_5y_15y', 'securitiesrmbs_over_15y']]"
   ]
  },
  {
   "cell_type": "code",
   "execution_count": null,
   "metadata": {},
   "outputs": [],
   "source": [
    "df_rmbs[df_rmbs['rssd9001'] == '37'].head()"
   ]
  },
  {
   "cell_type": "markdown",
   "metadata": {},
   "source": [
    "### Loans"
   ]
  },
  {
   "cell_type": "code",
   "execution_count": null,
   "metadata": {},
   "outputs": [],
   "source": [
    "df_loans = df_final[['rssd9001', 'date', 'resloans_less_3m', 'resloans_3m_1y', 'resloans_1y_3y', 'resloans_3y_5y', 'resloans_5y_15y', 'resloans_over_15y']]"
   ]
  },
  {
   "cell_type": "code",
   "execution_count": null,
   "metadata": {},
   "outputs": [],
   "source": [
    "df_loans[df_loans['rssd9001'] == '37'].head()"
   ]
  },
  {
   "cell_type": "code",
   "execution_count": null,
   "metadata": {},
   "outputs": [],
   "source": [
    "df_final.columns"
   ]
  },
  {
   "cell_type": "markdown",
   "metadata": {},
   "source": [
    "### Treasuries"
   ]
  },
  {
   "cell_type": "code",
   "execution_count": null,
   "metadata": {},
   "outputs": [],
   "source": [
    "df_treasuries = df_filtered[['rssd9001', 'date', 'securitiestreasury_less_3m',\n",
    "'securitiestreasury_3m_1y',\n",
    "'securitiestreasury_1y_3y',\n",
    "'securitiestreasury_3y_5y',\n",
    "'securitiestreasury_5y_15y',\n",
    "'securitiestreasury_over_15y']]"
   ]
  },
  {
   "cell_type": "code",
   "execution_count": null,
   "metadata": {},
   "outputs": [],
   "source": [
    "df_treasuries[df_treasuries['rssd9001'] == '37'].head()"
   ]
  },
  {
   "cell_type": "markdown",
   "metadata": {},
   "source": [
    "### Other Loans"
   ]
  },
  {
   "cell_type": "code",
   "execution_count": null,
   "metadata": {},
   "outputs": [],
   "source": [
    "df_other_loans = df_filtered[['rssd9001', 'date', 'loansleases_less_3m',\n",
    "'loansleases_3m_1y',\n",
    "'loansleases_1y_3y',\n",
    "'loansleases_3y_5y',\n",
    "'loansleases_5y_15y',\n",
    "'loansleases_over_15y']]"
   ]
  },
  {
   "cell_type": "code",
   "execution_count": null,
   "metadata": {},
   "outputs": [],
   "source": [
    "df_other_loans[df_other_loans['rssd9001'] == '37'].head()"
   ]
  },
  {
   "cell_type": "markdown",
   "metadata": {},
   "source": [
    "### Other"
   ]
  },
  {
   "cell_type": "code",
   "execution_count": null,
   "metadata": {},
   "outputs": [],
   "source": [
    "df_rmbs = df_rmbs.rename(columns={\n",
    "'securitiesrmbs_less_3m': '<3m',\n",
    "'securitiesrmbs_3m_1y':'3m-1y',\n",
    "'securitiesrmbs_1y_3y':'1y-3y',\n",
    "'securitiesrmbs_3y_5y':'3y-5y',\n",
    "'securitiesrmbs_5y_15y':'5y-15y',\n",
    "'securitiesrmbs_over_15y':'>15y',\n",
    "})\n",
    "\n",
    "df_treasuries = df_treasuries.rename(columns={\n",
    "'securitiestreasury_less_3m': '<3m',\n",
    "'securitiestreasury_3m_1y':'3m-1y',\n",
    "'securitiestreasury_1y_3y':'1y-3y',\n",
    "'securitiestreasury_3y_5y':'3y-5y',\n",
    "'securitiestreasury_5y_15y':'5y-15y',\n",
    "'securitiestreasury_over_15y':'>15y',\n",
    "})\n",
    "\n",
    "df_loans = df_loans.rename(columns={\n",
    "'resloans_less_3m': '<3m',\n",
    "'resloans_3m_1y':'3m-1y',\n",
    "'resloans_1y_3y':'1y-3y',\n",
    "'resloans_3y_5y':'3y-5y',\n",
    "'resloans_5y_15y':'5y-15y',\n",
    "'resloans_over_15y':'>15y',\n",
    "})\n",
    "\n",
    "df_other_loans = df_other_loans.rename(columns={\n",
    "'loansleases_less_3m': '<3m',\n",
    "'loansleases_3m_1y':'3m-1y',\n",
    "'loansleases_1y_3y':'1y-3y',\n",
    "'loansleases_3y_5y':'3y-5y',\n",
    "'loansleases_5y_15y':'5y-15y',\n",
    "'loansleases_over_15y':'>15y',\n",
    "})"
   ]
  },
  {
   "cell_type": "code",
   "execution_count": null,
   "metadata": {},
   "outputs": [],
   "source": [
    "sum_asset = 0\n",
    "for df in [df_rmbs, df_loans, df_treasuries, df_other_loans]:\n",
    "    total = df[['<3m', '3m-1y', '1y-3y', '3y-5y', '5y-15y', '>15y']].sum().sum()\n",
    "    sum_asset += total\n",
    "\n",
    "print('total assets:',\"{:,.2f}\".format(sum_asset))\n",
    "total_asset = df_asset['assets'].sum()\n",
    "print('assets ratio:',\"{:,.2%}\".format(sum_asset/total_asset))"
   ]
  },
  {
   "cell_type": "code",
   "execution_count": null,
   "metadata": {},
   "outputs": [],
   "source": [
    "rcon_series_1 = pull_WRDS_call_reports.load_RCON_series_1()"
   ]
  },
  {
   "cell_type": "code",
   "execution_count": null,
   "metadata": {},
   "outputs": [],
   "source": []
  },
  {
   "cell_type": "code",
   "execution_count": null,
   "metadata": {},
   "outputs": [],
   "source": [
    "rcon_series_1['rssd9999'] = pd.to_datetime(rcon_series_1['rssd9999'])\n",
    "# Define required dates\n",
    "required_dates = [pd.Timestamp(\"2022-03-31\"), pd.Timestamp(\"2023-03-31\")]\n",
    "\n",
    "rcon_series_1 = rcon_series_1.groupby('rssd9001').filter(lambda x: all(date in x['rssd9999'].values for date in required_dates))\n",
    "rcon_series_1 = rcon_series_1.rename(columns={\n",
    "    'rssd9999': 'date'\n",
    "})"
   ]
  },
  {
   "cell_type": "code",
   "execution_count": null,
   "metadata": {},
   "outputs": [],
   "source": [
    "df_uninsured = rcon_series_1[['rssd9001', 'date', 'uninsured_deposits']]\n",
    "df_insured = rcon_series_1[['rssd9001', 'date', 'insured_deposit_1', 'insured_deposit_2']]"
   ]
  },
  {
   "cell_type": "code",
   "execution_count": null,
   "metadata": {},
   "outputs": [],
   "source": [
    "asset_small = df_asset_small['rssd9001'].unique()\n",
    "asset_large_ex_GSIB = df_asset_large_ex_GSIB['rssd9001'].unique()"
   ]
  },
  {
   "cell_type": "code",
   "execution_count": null,
   "metadata": {},
   "outputs": [],
   "source": [
    "len(df_asset_large_ex_GSIB), len(df_asset_small), len(GSIB)"
   ]
  },
  {
   "cell_type": "code",
   "execution_count": null,
   "metadata": {},
   "outputs": [],
   "source": [
    "importlib.reload(helper_functions)\n",
    "etf_mbs_change = helper_functions.get_etf_mbs_change(etf_mbs)\n",
    "treasury_change = helper_functions.get_treasury_change(treasuries_data)\n",
    "rmbs_multiplier = etf_mbs_change / treasury_change\n",
    "rmbs_multiplier"
   ]
  },
  {
   "cell_type": "code",
   "execution_count": null,
   "metadata": {},
   "outputs": [],
   "source": [
    "etf_mbs.tail()"
   ]
  },
  {
   "cell_type": "code",
   "execution_count": null,
   "metadata": {},
   "outputs": [],
   "source": [
    "rmbs_multiplier"
   ]
  },
  {
   "cell_type": "code",
   "execution_count": null,
   "metadata": {},
   "outputs": [],
   "source": [
    "treasury_prices = pd.read_excel(\"../data/manual/combined_index_df.xlsx\")\n",
    "treasury_prices.set_index('date', inplace=True)\n",
    "start_date = \"2022-03-31\"\n",
    "end_date =\"2023-03-31\""
   ]
  },
  {
   "cell_type": "code",
   "execution_count": null,
   "metadata": {},
   "outputs": [],
   "source": [
    "importlib.reload(helper_functions)\n",
    "bank_losses = helper_functions.calculate_losses(treasury_prices, df_rmbs, df_loans, df_treasuries, df_other_loans, df_asset, rmbs_multiplier)"
   ]
  },
  {
   "cell_type": "code",
   "execution_count": null,
   "metadata": {},
   "outputs": [],
   "source": [
    "bank_losses[bank_losses['bank_ID'] == '12311'].head()"
   ]
  },
  {
   "cell_type": "code",
   "execution_count": null,
   "metadata": {},
   "outputs": [],
   "source": [
    "median_percentage = bank_losses[['Share RMBs', 'Share Treasury and Other', \n",
    "        'Share Residential Mortgage', 'Share Other Loan']].median()\n",
    "median_percentage"
   ]
  },
  {
   "cell_type": "code",
   "execution_count": null,
   "metadata": {},
   "outputs": [],
   "source": [
    "std_percentages =bank_losses[['Share RMBs', 'Share Treasury and Other', \n",
    "        'Share Residential Mortgage', 'Share Other Loan']].std()\n",
    "std_percentages"
   ]
  },
  {
   "cell_type": "code",
   "execution_count": null,
   "metadata": {},
   "outputs": [],
   "source": [
    "total_sum_loss = bank_losses['total_loss'].sum()\n",
    "total_sum_loss"
   ]
  },
  {
   "cell_type": "code",
   "execution_count": null,
   "metadata": {},
   "outputs": [],
   "source": [
    "median_bank_loss = bank_losses['total_loss'].median()\n",
    "median_bank_loss "
   ]
  },
  {
   "cell_type": "code",
   "execution_count": null,
   "metadata": {},
   "outputs": [],
   "source": [
    "core_asset = bank_losses['core_asset'].sum()\n",
    "gross_asset = bank_losses['gross_asset'].sum()\n",
    "core_asset / gross_asset"
   ]
  },
  {
   "cell_type": "code",
   "execution_count": null,
   "metadata": {},
   "outputs": [],
   "source": [
    "median_loss_asset_ratio = bank_losses['loss/gross_asset'].median()\n",
    "median_loss_asset_ratio"
   ]
  },
  {
   "cell_type": "code",
   "execution_count": null,
   "metadata": {},
   "outputs": [],
   "source": [
    "average_loss_asset_ratio = bank_losses['loss/gross_asset'].mean()\n",
    "average_loss_asset_ratio"
   ]
  },
  {
   "cell_type": "code",
   "execution_count": null,
   "metadata": {},
   "outputs": [],
   "source": [
    "std_loss_asset_ratio = bank_losses['loss/gross_asset'].std()\n",
    "std_loss_asset_ratio"
   ]
  },
  {
   "cell_type": "code",
   "execution_count": null,
   "metadata": {},
   "outputs": [],
   "source": [
    "df_uninsured.head()\n",
    "uninsured_deposit = df_uninsured[df_uninsured['date'] == '2022-03-31']"
   ]
  },
  {
   "cell_type": "code",
   "execution_count": null,
   "metadata": {},
   "outputs": [],
   "source": [
    "uninsured_deposit['rssd9001'] = uninsured_deposit['rssd9001'].astype(str)"
   ]
  },
  {
   "cell_type": "code",
   "execution_count": null,
   "metadata": {},
   "outputs": [],
   "source": [
    "uninsured_deposit.head()"
   ]
  },
  {
   "cell_type": "code",
   "execution_count": null,
   "metadata": {},
   "outputs": [],
   "source": [
    "uninsured_deposit['uninsured_deposits'].sum()/gross_asset "
   ]
  },
  {
   "cell_type": "code",
   "execution_count": null,
   "metadata": {},
   "outputs": [],
   "source": [
    "uninsured_deposit['uninsured_deposits'].sum()"
   ]
  },
  {
   "cell_type": "code",
   "execution_count": null,
   "metadata": {},
   "outputs": [],
   "source": [
    "uninsured_deposit.columns"
   ]
  },
  {
   "cell_type": "code",
   "execution_count": null,
   "metadata": {},
   "outputs": [],
   "source": [
    "importlib.reload(helper_functions)\n",
    "un_mm_ratio = helper_functions.calculate_uninsured_deposit_mm_asset(uninsured_deposit, bank_losses)"
   ]
  },
  {
   "cell_type": "code",
   "execution_count": null,
   "metadata": {},
   "outputs": [],
   "source": [
    "un_mm_ratio['total_loss'].sum()"
   ]
  },
  {
   "cell_type": "code",
   "execution_count": null,
   "metadata": {},
   "outputs": [],
   "source": [
    "un_mm_ratio['total_asset'].sum()"
   ]
  },
  {
   "cell_type": "code",
   "execution_count": null,
   "metadata": {},
   "outputs": [],
   "source": [
    "un_mm_ratio['mm_asset'].sum()"
   ]
  },
  {
   "cell_type": "code",
   "execution_count": null,
   "metadata": {},
   "outputs": [],
   "source": [
    "un_mm_ratio['Uninsured_Deposit_MM_Asset'].median()"
   ]
  },
  {
   "cell_type": "code",
   "execution_count": null,
   "metadata": {},
   "outputs": [],
   "source": [
    "un_mm_ratio['Uninsured_Deposit_MM_Asset'].std()"
   ]
  },
  {
   "cell_type": "code",
   "execution_count": null,
   "metadata": {},
   "outputs": [],
   "source": [
    "#df_insured['insured_deposit'] = df_insured['insured_deposit_1'] + df_insured['insured_deposit_2']"
   ]
  },
  {
   "cell_type": "code",
   "execution_count": null,
   "metadata": {},
   "outputs": [],
   "source": [
    "# df_insured['insured_deposit'].sum()"
   ]
  },
  {
   "cell_type": "code",
   "execution_count": null,
   "metadata": {},
   "outputs": [],
   "source": [
    "importlib.reload(helper_functions)\n",
    "large_ex_GSIB = helper_functions.large_ex_GSIB_bank_id(df_asset_large_ex_GSIB)\n",
    "small = helper_functions.small_bank_id(df_asset_small)"
   ]
  },
  {
   "cell_type": "code",
   "execution_count": null,
   "metadata": {},
   "outputs": [],
   "source": [
    "len(df_asset_GSIB), len(df_asset_large_ex_GSIB), len(df_asset_small)"
   ]
  },
  {
   "cell_type": "code",
   "execution_count": null,
   "metadata": {},
   "outputs": [],
   "source": [
    "df_RMBS_GSIB = df_rmbs[df_rmbs['rssd9001'].isin(GSIB)]\n",
    "df_RMBS_large_ex_GSIB = df_rmbs[df_rmbs['rssd9001'].isin(large_ex_GSIB)]\n",
    "df_RMBS_small = df_rmbs[df_rmbs['rssd9001'].isin(small)]\n",
    "len(df_RMBS_GSIB), len(df_RMBS_large_ex_GSIB), len(df_RMBS_small)"
   ]
  },
  {
   "cell_type": "code",
   "execution_count": null,
   "metadata": {},
   "outputs": [],
   "source": [
    "df_loans_GSIB = df_loans[df_loans['rssd9001'].isin(GSIB)]\n",
    "df_loans_large_ex_GSIB = df_loans[df_loans['rssd9001'].isin(large_ex_GSIB)]\n",
    "df_loans_small = df_loans[df_loans['rssd9001'].isin(small)]\n",
    "len(df_loans_GSIB), len(df_loans_large_ex_GSIB), len(df_loans_small)"
   ]
  },
  {
   "cell_type": "code",
   "execution_count": null,
   "metadata": {},
   "outputs": [],
   "source": [
    "df_treasuries_GSIB = df_treasuries[df_treasuries['rssd9001'].isin(GSIB)]\n",
    "df_treasuries_large_ex_GSIB = df_treasuries[df_treasuries['rssd9001'].isin(large_ex_GSIB)]\n",
    "df_treasuries_small = df_treasuries[df_treasuries['rssd9001'].isin(small)]\n",
    "len(df_treasuries_GSIB), len(df_treasuries_large_ex_GSIB), len(df_treasuries_small)"
   ]
  },
  {
   "cell_type": "code",
   "execution_count": null,
   "metadata": {},
   "outputs": [],
   "source": [
    "df_other_loans_GSIB = df_other_loans[df_other_loans['rssd9001'].isin(GSIB)]\n",
    "df_other_loans_large_ex_GSIB = df_other_loans[df_other_loans['rssd9001'].isin(large_ex_GSIB)]\n",
    "df_other_loans_small = df_other_loans[df_other_loans['rssd9001'].isin(small)]\n",
    "len(df_other_loans_GSIB), len(df_other_loans_large_ex_GSIB), len(df_other_loans_small)"
   ]
  },
  {
   "cell_type": "code",
   "execution_count": null,
   "metadata": {},
   "outputs": [],
   "source": [
    "uninsured_deposit_GSIB = uninsured_deposit[uninsured_deposit['rssd9001'].isin(GSIB)]\n",
    "uninsured_deposit_large_ex_GSIB = uninsured_deposit[uninsured_deposit['rssd9001'].isin(large_ex_GSIB)]\n",
    "uninsured_deposit_small = uninsured_deposit[uninsured_deposit['rssd9001'].isin(small)]\n",
    "len(uninsured_deposit_GSIB), len(uninsured_deposit_large_ex_GSIB), len(uninsured_deposit_small)"
   ]
  },
  {
   "cell_type": "code",
   "execution_count": null,
   "metadata": {},
   "outputs": [],
   "source": [
    "bank_losses = helper_functions.calculate_losses(\n",
    "    treasury_prices, df_rmbs, df_loans, df_treasuries, df_other_loans, df_asset, rmbs_multiplier\n",
    ")"
   ]
  },
  {
   "cell_type": "code",
   "execution_count": null,
   "metadata": {},
   "outputs": [],
   "source": [
    "bank_losses_gsib = helper_functions.calculate_losses(\n",
    "    treasury_prices, df_RMBS_GSIB, df_loans_GSIB, df_treasuries_GSIB, df_other_loans_GSIB, df_asset_GSIB, rmbs_multiplier \n",
    ")"
   ]
  },
  {
   "cell_type": "code",
   "execution_count": null,
   "metadata": {},
   "outputs": [],
   "source": [
    "bank_losses_large = helper_functions.calculate_losses(\n",
    "    treasury_prices, df_RMBS_large_ex_GSIB, df_loans_large_ex_GSIB, df_treasuries_large_ex_GSIB, df_other_loans_large_ex_GSIB, df_asset_large_ex_GSIB, rmbs_multiplier\n",
    ")"
   ]
  },
  {
   "cell_type": "code",
   "execution_count": null,
   "metadata": {},
   "outputs": [],
   "source": [
    "bank_losses_small = helper_functions.calculate_losses(\n",
    "    treasury_prices, df_RMBS_small, df_loans_small, df_treasuries_small, df_other_loans_small, df_asset_large_ex_GSIB, rmbs_multiplier\n",
    ")"
   ]
  },
  {
   "cell_type": "code",
   "execution_count": null,
   "metadata": {},
   "outputs": [],
   "source": [
    "uninsured_deposit_mm_asset_small = helper_functions.calculate_uninsured_deposit_mm_asset(uninsured_deposit_small, bank_losses_small)\n",
    "uninsured_deposit_mm_asset_large_ex_GSIB = helper_functions.calculate_uninsured_deposit_mm_asset(uninsured_deposit_large_ex_GSIB, bank_losses_large)\n",
    "uninsured_deposit_mm_asset_GSIB = helper_functions.calculate_uninsured_deposit_mm_asset(uninsured_deposit_GSIB, bank_losses_gsib)    "
   ]
  },
  {
   "cell_type": "code",
   "execution_count": null,
   "metadata": {},
   "outputs": [],
   "source": [
    "importlib.reload(helper_functions)\n",
    "final_stats = helper_functions.final_statistic_table(bank_losses, un_mm_ratio, None)\n",
    "final_stats_small = helper_functions.final_statistic_table(bank_losses_small, uninsured_deposit_mm_asset_small, None, index_name = 'Small Banks')\n",
    "final_stats_large_ex_GSIB = helper_functions.final_statistic_table(bank_losses_large, uninsured_deposit_mm_asset_large_ex_GSIB, None, index_name = 'Large Ex GSIB Banks')\n",
    "final_stats_GSIB = helper_functions.final_statistic_table(bank_losses_gsib, uninsured_deposit_mm_asset_GSIB, None, index_name = 'GSIB Banks')"
   ]
  },
  {
   "cell_type": "code",
   "execution_count": null,
   "metadata": {},
   "outputs": [],
   "source": [
    "table_1 = pd.concat([final_stats, final_stats_small, final_stats_large_ex_GSIB, final_stats_GSIB], axis=1)\n",
    "table_1"
   ]
  },
  {
   "cell_type": "code",
   "execution_count": null,
   "metadata": {},
   "outputs": [],
   "source": []
  }
 ],
 "metadata": {
  "language_info": {
   "name": "python"
  }
 },
 "nbformat": 4,
 "nbformat_minor": 2
}
